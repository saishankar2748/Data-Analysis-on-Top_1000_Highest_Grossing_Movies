{
 "cells": [
  {
   "cell_type": "code",
   "execution_count": 7,
   "id": "f2a4f1b1",
   "metadata": {},
   "outputs": [],
   "source": [
    "# importing necessary libraries\n",
    "import pandas as pd\n",
    "import numpy as np\n",
    "import matplotlib.pyplot as plt\n",
    "import seaborn as sns"
   ]
  },
  {
   "cell_type": "code",
   "execution_count": 2,
   "id": "6fdeafcf",
   "metadata": {},
   "outputs": [
    {
     "data": {
      "text/html": [
       "<div>\n",
       "<style scoped>\n",
       "    .dataframe tbody tr th:only-of-type {\n",
       "        vertical-align: middle;\n",
       "    }\n",
       "\n",
       "    .dataframe tbody tr th {\n",
       "        vertical-align: top;\n",
       "    }\n",
       "\n",
       "    .dataframe thead th {\n",
       "        text-align: right;\n",
       "    }\n",
       "</style>\n",
       "<table border=\"1\" class=\"dataframe\">\n",
       "  <thead>\n",
       "    <tr style=\"text-align: right;\">\n",
       "      <th></th>\n",
       "      <th>Movie Title</th>\n",
       "      <th>Year of Realease</th>\n",
       "      <th>Genre</th>\n",
       "      <th>Movie Rating</th>\n",
       "      <th>Duration</th>\n",
       "      <th>Gross</th>\n",
       "      <th>Worldwide LT Gross</th>\n",
       "      <th>Metascore</th>\n",
       "      <th>Votes</th>\n",
       "      <th>Logline</th>\n",
       "    </tr>\n",
       "  </thead>\n",
       "  <tbody>\n",
       "    <tr>\n",
       "      <th>0</th>\n",
       "      <td>Avatar</td>\n",
       "      <td>2009</td>\n",
       "      <td>Action,Adventure,Fantasy</td>\n",
       "      <td>7.8</td>\n",
       "      <td>162</td>\n",
       "      <td>$760.51M</td>\n",
       "      <td>$2,847,397,339</td>\n",
       "      <td>83</td>\n",
       "      <td>1,236,962</td>\n",
       "      <td>A paraplegic Marine dispatched to the moon Pan...</td>\n",
       "    </tr>\n",
       "    <tr>\n",
       "      <th>1</th>\n",
       "      <td>Avengers: Endgame</td>\n",
       "      <td>2019</td>\n",
       "      <td>Action,Adventure,Drama</td>\n",
       "      <td>8.4</td>\n",
       "      <td>181</td>\n",
       "      <td>$858.37M</td>\n",
       "      <td>$2,797,501,328</td>\n",
       "      <td>78</td>\n",
       "      <td>1,108,641</td>\n",
       "      <td>After the devastating events of Avengers: Infi...</td>\n",
       "    </tr>\n",
       "    <tr>\n",
       "      <th>2</th>\n",
       "      <td>Titanic</td>\n",
       "      <td>1997</td>\n",
       "      <td>Drama,Romance</td>\n",
       "      <td>7.9</td>\n",
       "      <td>194</td>\n",
       "      <td>$659.33M</td>\n",
       "      <td>$2,201,647,264</td>\n",
       "      <td>75</td>\n",
       "      <td>1,162,142</td>\n",
       "      <td>A seventeen-year-old aristocrat falls in love ...</td>\n",
       "    </tr>\n",
       "    <tr>\n",
       "      <th>3</th>\n",
       "      <td>Star Wars: Episode VII - The Force Awakens</td>\n",
       "      <td>2015</td>\n",
       "      <td>Action,Adventure,Sci-Fi</td>\n",
       "      <td>7.8</td>\n",
       "      <td>138</td>\n",
       "      <td>$936.66M</td>\n",
       "      <td>$2,069,521,700</td>\n",
       "      <td>80</td>\n",
       "      <td>925,551</td>\n",
       "      <td>As a new threat to the galaxy rises, Rey, a de...</td>\n",
       "    </tr>\n",
       "    <tr>\n",
       "      <th>4</th>\n",
       "      <td>Avengers: Infinity War</td>\n",
       "      <td>2018</td>\n",
       "      <td>Action,Adventure,Sci-Fi</td>\n",
       "      <td>8.4</td>\n",
       "      <td>149</td>\n",
       "      <td>$678.82M</td>\n",
       "      <td>$2,048,359,754</td>\n",
       "      <td>68</td>\n",
       "      <td>1,062,517</td>\n",
       "      <td>The Avengers and their allies must be willing ...</td>\n",
       "    </tr>\n",
       "  </tbody>\n",
       "</table>\n",
       "</div>"
      ],
      "text/plain": [
       "                                  Movie Title Year of Realease  \\\n",
       "0                                      Avatar             2009   \n",
       "1                           Avengers: Endgame             2019   \n",
       "2                                     Titanic             1997   \n",
       "3  Star Wars: Episode VII - The Force Awakens             2015   \n",
       "4                      Avengers: Infinity War             2018   \n",
       "\n",
       "                      Genre  Movie Rating  Duration     Gross  \\\n",
       "0  Action,Adventure,Fantasy           7.8       162  $760.51M   \n",
       "1    Action,Adventure,Drama           8.4       181  $858.37M   \n",
       "2             Drama,Romance           7.9       194  $659.33M   \n",
       "3   Action,Adventure,Sci-Fi           7.8       138  $936.66M   \n",
       "4   Action,Adventure,Sci-Fi           8.4       149  $678.82M   \n",
       "\n",
       "  Worldwide LT Gross Metascore      Votes  \\\n",
       "0     $2,847,397,339        83  1,236,962   \n",
       "1     $2,797,501,328        78  1,108,641   \n",
       "2     $2,201,647,264        75  1,162,142   \n",
       "3     $2,069,521,700        80    925,551   \n",
       "4     $2,048,359,754        68  1,062,517   \n",
       "\n",
       "                                             Logline  \n",
       "0  A paraplegic Marine dispatched to the moon Pan...  \n",
       "1  After the devastating events of Avengers: Infi...  \n",
       "2  A seventeen-year-old aristocrat falls in love ...  \n",
       "3  As a new threat to the galaxy rises, Rey, a de...  \n",
       "4  The Avengers and their allies must be willing ...  "
      ]
     },
     "execution_count": 2,
     "metadata": {},
     "output_type": "execute_result"
    }
   ],
   "source": [
    "# reading csv\n",
    "df = pd.read_csv('Top_1000_Highest_Grossing_Movies_Of_All_Time.csv')\n",
    "df.head() # prints first 5 columns"
   ]
  },
  {
   "cell_type": "code",
   "execution_count": 3,
   "id": "a68f554b",
   "metadata": {},
   "outputs": [
    {
     "data": {
      "text/plain": [
       "(1000, 10)"
      ]
     },
     "execution_count": 3,
     "metadata": {},
     "output_type": "execute_result"
    }
   ],
   "source": [
    "# hape attribute\n",
    "df.shape"
   ]
  },
  {
   "cell_type": "code",
   "execution_count": 4,
   "id": "1c399a1e",
   "metadata": {},
   "outputs": [
    {
     "name": "stdout",
     "output_type": "stream",
     "text": [
      "<class 'pandas.core.frame.DataFrame'>\n",
      "RangeIndex: 1000 entries, 0 to 999\n",
      "Data columns (total 10 columns):\n",
      " #   Column              Non-Null Count  Dtype  \n",
      "---  ------              --------------  -----  \n",
      " 0   Movie Title         1000 non-null   object \n",
      " 1   Year of Realease    1000 non-null   object \n",
      " 2   Genre               1000 non-null   object \n",
      " 3   Movie Rating        1000 non-null   float64\n",
      " 4   Duration            1000 non-null   int64  \n",
      " 5   Gross               1000 non-null   object \n",
      " 6   Worldwide LT Gross  1000 non-null   object \n",
      " 7   Metascore           1000 non-null   object \n",
      " 8   Votes               1000 non-null   object \n",
      " 9   Logline             1000 non-null   object \n",
      "dtypes: float64(1), int64(1), object(8)\n",
      "memory usage: 78.2+ KB\n"
     ]
    }
   ],
   "source": [
    "df.info()  # gives info of each column"
   ]
  },
  {
   "cell_type": "code",
   "execution_count": 5,
   "id": "5dc91df3",
   "metadata": {},
   "outputs": [
    {
     "data": {
      "text/html": [
       "<div>\n",
       "<style scoped>\n",
       "    .dataframe tbody tr th:only-of-type {\n",
       "        vertical-align: middle;\n",
       "    }\n",
       "\n",
       "    .dataframe tbody tr th {\n",
       "        vertical-align: top;\n",
       "    }\n",
       "\n",
       "    .dataframe thead th {\n",
       "        text-align: right;\n",
       "    }\n",
       "</style>\n",
       "<table border=\"1\" class=\"dataframe\">\n",
       "  <thead>\n",
       "    <tr style=\"text-align: right;\">\n",
       "      <th></th>\n",
       "      <th>Movie Rating</th>\n",
       "      <th>Duration</th>\n",
       "    </tr>\n",
       "  </thead>\n",
       "  <tbody>\n",
       "    <tr>\n",
       "      <th>count</th>\n",
       "      <td>1000.00000</td>\n",
       "      <td>1000.000000</td>\n",
       "    </tr>\n",
       "    <tr>\n",
       "      <th>mean</th>\n",
       "      <td>6.80080</td>\n",
       "      <td>117.679000</td>\n",
       "    </tr>\n",
       "    <tr>\n",
       "      <th>std</th>\n",
       "      <td>0.90145</td>\n",
       "      <td>21.561885</td>\n",
       "    </tr>\n",
       "    <tr>\n",
       "      <th>min</th>\n",
       "      <td>2.50000</td>\n",
       "      <td>69.000000</td>\n",
       "    </tr>\n",
       "    <tr>\n",
       "      <th>25%</th>\n",
       "      <td>6.20000</td>\n",
       "      <td>102.000000</td>\n",
       "    </tr>\n",
       "    <tr>\n",
       "      <th>50%</th>\n",
       "      <td>6.80000</td>\n",
       "      <td>116.000000</td>\n",
       "    </tr>\n",
       "    <tr>\n",
       "      <th>75%</th>\n",
       "      <td>7.40000</td>\n",
       "      <td>130.000000</td>\n",
       "    </tr>\n",
       "    <tr>\n",
       "      <th>max</th>\n",
       "      <td>9.20000</td>\n",
       "      <td>238.000000</td>\n",
       "    </tr>\n",
       "  </tbody>\n",
       "</table>\n",
       "</div>"
      ],
      "text/plain": [
       "       Movie Rating     Duration\n",
       "count    1000.00000  1000.000000\n",
       "mean        6.80080   117.679000\n",
       "std         0.90145    21.561885\n",
       "min         2.50000    69.000000\n",
       "25%         6.20000   102.000000\n",
       "50%         6.80000   116.000000\n",
       "75%         7.40000   130.000000\n",
       "max         9.20000   238.000000"
      ]
     },
     "execution_count": 5,
     "metadata": {},
     "output_type": "execute_result"
    }
   ],
   "source": [
    "df.describe() # gives statistical insights"
   ]
  },
  {
   "cell_type": "code",
   "execution_count": 6,
   "id": "52b5e2af",
   "metadata": {},
   "outputs": [
    {
     "data": {
      "text/plain": [
       "Movie Title           0\n",
       "Year of Realease      0\n",
       "Genre                 0\n",
       "Movie Rating          0\n",
       "Duration              0\n",
       "Gross                 0\n",
       "Worldwide LT Gross    0\n",
       "Metascore             0\n",
       "Votes                 0\n",
       "Logline               0\n",
       "dtype: int64"
      ]
     },
     "execution_count": 6,
     "metadata": {},
     "output_type": "execute_result"
    }
   ],
   "source": [
    "df.isnull().sum()  # to check null values"
   ]
  },
  {
   "cell_type": "code",
   "execution_count": null,
   "id": "cfa9edf4",
   "metadata": {},
   "outputs": [],
   "source": []
  }
 ],
 "metadata": {
  "kernelspec": {
   "display_name": "Python 3 (ipykernel)",
   "language": "python",
   "name": "python3"
  },
  "language_info": {
   "codemirror_mode": {
    "name": "ipython",
    "version": 3
   },
   "file_extension": ".py",
   "mimetype": "text/x-python",
   "name": "python",
   "nbconvert_exporter": "python",
   "pygments_lexer": "ipython3",
   "version": "3.9.7"
  }
 },
 "nbformat": 4,
 "nbformat_minor": 5
}
