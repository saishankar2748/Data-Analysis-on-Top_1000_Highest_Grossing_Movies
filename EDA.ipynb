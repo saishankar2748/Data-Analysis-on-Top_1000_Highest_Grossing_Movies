{
 "cells": [
  {
   "cell_type": "code",
   "execution_count": 231,
   "id": "f2a4f1b1",
   "metadata": {},
   "outputs": [],
   "source": [
    "# importing necessary libraries\n",
    "import pandas as pd\n",
    "import numpy as np\n",
    "import matplotlib.pyplot as plt\n",
    "import seaborn as sns\n",
    "import plotly.graph_objs as go\n",
    "import plotly.express as px\n",
    "import os"
   ]
  },
  {
   "cell_type": "code",
   "execution_count": 232,
   "id": "6fdeafcf",
   "metadata": {},
   "outputs": [
    {
     "data": {
      "text/html": [
       "<div>\n",
       "<style scoped>\n",
       "    .dataframe tbody tr th:only-of-type {\n",
       "        vertical-align: middle;\n",
       "    }\n",
       "\n",
       "    .dataframe tbody tr th {\n",
       "        vertical-align: top;\n",
       "    }\n",
       "\n",
       "    .dataframe thead th {\n",
       "        text-align: right;\n",
       "    }\n",
       "</style>\n",
       "<table border=\"1\" class=\"dataframe\">\n",
       "  <thead>\n",
       "    <tr style=\"text-align: right;\">\n",
       "      <th></th>\n",
       "      <th>Movie Title</th>\n",
       "      <th>Year of Realease</th>\n",
       "      <th>Genre</th>\n",
       "      <th>Movie Rating</th>\n",
       "      <th>Duration</th>\n",
       "      <th>Gross</th>\n",
       "      <th>Worldwide LT Gross</th>\n",
       "      <th>Metascore</th>\n",
       "      <th>Votes</th>\n",
       "      <th>Logline</th>\n",
       "    </tr>\n",
       "  </thead>\n",
       "  <tbody>\n",
       "    <tr>\n",
       "      <th>0</th>\n",
       "      <td>Avatar</td>\n",
       "      <td>2009</td>\n",
       "      <td>Action,Adventure,Fantasy</td>\n",
       "      <td>7.8</td>\n",
       "      <td>162</td>\n",
       "      <td>$760.51M</td>\n",
       "      <td>$2,847,397,339</td>\n",
       "      <td>83</td>\n",
       "      <td>1,236,962</td>\n",
       "      <td>A paraplegic Marine dispatched to the moon Pan...</td>\n",
       "    </tr>\n",
       "    <tr>\n",
       "      <th>1</th>\n",
       "      <td>Avengers: Endgame</td>\n",
       "      <td>2019</td>\n",
       "      <td>Action,Adventure,Drama</td>\n",
       "      <td>8.4</td>\n",
       "      <td>181</td>\n",
       "      <td>$858.37M</td>\n",
       "      <td>$2,797,501,328</td>\n",
       "      <td>78</td>\n",
       "      <td>1,108,641</td>\n",
       "      <td>After the devastating events of Avengers: Infi...</td>\n",
       "    </tr>\n",
       "    <tr>\n",
       "      <th>2</th>\n",
       "      <td>Titanic</td>\n",
       "      <td>1997</td>\n",
       "      <td>Drama,Romance</td>\n",
       "      <td>7.9</td>\n",
       "      <td>194</td>\n",
       "      <td>$659.33M</td>\n",
       "      <td>$2,201,647,264</td>\n",
       "      <td>75</td>\n",
       "      <td>1,162,142</td>\n",
       "      <td>A seventeen-year-old aristocrat falls in love ...</td>\n",
       "    </tr>\n",
       "    <tr>\n",
       "      <th>3</th>\n",
       "      <td>Star Wars: Episode VII - The Force Awakens</td>\n",
       "      <td>2015</td>\n",
       "      <td>Action,Adventure,Sci-Fi</td>\n",
       "      <td>7.8</td>\n",
       "      <td>138</td>\n",
       "      <td>$936.66M</td>\n",
       "      <td>$2,069,521,700</td>\n",
       "      <td>80</td>\n",
       "      <td>925,551</td>\n",
       "      <td>As a new threat to the galaxy rises, Rey, a de...</td>\n",
       "    </tr>\n",
       "    <tr>\n",
       "      <th>4</th>\n",
       "      <td>Avengers: Infinity War</td>\n",
       "      <td>2018</td>\n",
       "      <td>Action,Adventure,Sci-Fi</td>\n",
       "      <td>8.4</td>\n",
       "      <td>149</td>\n",
       "      <td>$678.82M</td>\n",
       "      <td>$2,048,359,754</td>\n",
       "      <td>68</td>\n",
       "      <td>1,062,517</td>\n",
       "      <td>The Avengers and their allies must be willing ...</td>\n",
       "    </tr>\n",
       "  </tbody>\n",
       "</table>\n",
       "</div>"
      ],
      "text/plain": [
       "                                  Movie Title Year of Realease  \\\n",
       "0                                      Avatar             2009   \n",
       "1                           Avengers: Endgame             2019   \n",
       "2                                     Titanic             1997   \n",
       "3  Star Wars: Episode VII - The Force Awakens             2015   \n",
       "4                      Avengers: Infinity War             2018   \n",
       "\n",
       "                      Genre  Movie Rating  Duration     Gross  \\\n",
       "0  Action,Adventure,Fantasy           7.8       162  $760.51M   \n",
       "1    Action,Adventure,Drama           8.4       181  $858.37M   \n",
       "2             Drama,Romance           7.9       194  $659.33M   \n",
       "3   Action,Adventure,Sci-Fi           7.8       138  $936.66M   \n",
       "4   Action,Adventure,Sci-Fi           8.4       149  $678.82M   \n",
       "\n",
       "  Worldwide LT Gross Metascore      Votes  \\\n",
       "0     $2,847,397,339        83  1,236,962   \n",
       "1     $2,797,501,328        78  1,108,641   \n",
       "2     $2,201,647,264        75  1,162,142   \n",
       "3     $2,069,521,700        80    925,551   \n",
       "4     $2,048,359,754        68  1,062,517   \n",
       "\n",
       "                                             Logline  \n",
       "0  A paraplegic Marine dispatched to the moon Pan...  \n",
       "1  After the devastating events of Avengers: Infi...  \n",
       "2  A seventeen-year-old aristocrat falls in love ...  \n",
       "3  As a new threat to the galaxy rises, Rey, a de...  \n",
       "4  The Avengers and their allies must be willing ...  "
      ]
     },
     "execution_count": 232,
     "metadata": {},
     "output_type": "execute_result"
    }
   ],
   "source": [
    "# reading csv\n",
    "df = pd.read_csv('Top_1000_Highest_Grossing_Movies_Of_All_Time.csv')\n",
    "df.head() # prints first 5 columns"
   ]
  },
  {
   "cell_type": "code",
   "execution_count": 233,
   "id": "a68f554b",
   "metadata": {},
   "outputs": [
    {
     "data": {
      "text/plain": [
       "(1000, 10)"
      ]
     },
     "execution_count": 233,
     "metadata": {},
     "output_type": "execute_result"
    }
   ],
   "source": [
    "# shape attribute\n",
    "df.shape"
   ]
  },
  {
   "cell_type": "code",
   "execution_count": 234,
   "id": "1c399a1e",
   "metadata": {},
   "outputs": [
    {
     "name": "stdout",
     "output_type": "stream",
     "text": [
      "<class 'pandas.core.frame.DataFrame'>\n",
      "RangeIndex: 1000 entries, 0 to 999\n",
      "Data columns (total 10 columns):\n",
      " #   Column              Non-Null Count  Dtype  \n",
      "---  ------              --------------  -----  \n",
      " 0   Movie Title         1000 non-null   object \n",
      " 1   Year of Realease    1000 non-null   object \n",
      " 2   Genre               1000 non-null   object \n",
      " 3   Movie Rating        1000 non-null   float64\n",
      " 4   Duration            1000 non-null   int64  \n",
      " 5   Gross               1000 non-null   object \n",
      " 6   Worldwide LT Gross  1000 non-null   object \n",
      " 7   Metascore           1000 non-null   object \n",
      " 8   Votes               1000 non-null   object \n",
      " 9   Logline             1000 non-null   object \n",
      "dtypes: float64(1), int64(1), object(8)\n",
      "memory usage: 78.2+ KB\n"
     ]
    }
   ],
   "source": [
    "df.info()  # gives info of each column"
   ]
  },
  {
   "cell_type": "code",
   "execution_count": 235,
   "id": "5dc91df3",
   "metadata": {},
   "outputs": [
    {
     "data": {
      "text/html": [
       "<div>\n",
       "<style scoped>\n",
       "    .dataframe tbody tr th:only-of-type {\n",
       "        vertical-align: middle;\n",
       "    }\n",
       "\n",
       "    .dataframe tbody tr th {\n",
       "        vertical-align: top;\n",
       "    }\n",
       "\n",
       "    .dataframe thead th {\n",
       "        text-align: right;\n",
       "    }\n",
       "</style>\n",
       "<table border=\"1\" class=\"dataframe\">\n",
       "  <thead>\n",
       "    <tr style=\"text-align: right;\">\n",
       "      <th></th>\n",
       "      <th>Movie Rating</th>\n",
       "      <th>Duration</th>\n",
       "    </tr>\n",
       "  </thead>\n",
       "  <tbody>\n",
       "    <tr>\n",
       "      <th>count</th>\n",
       "      <td>1000.00000</td>\n",
       "      <td>1000.000000</td>\n",
       "    </tr>\n",
       "    <tr>\n",
       "      <th>mean</th>\n",
       "      <td>6.80080</td>\n",
       "      <td>117.679000</td>\n",
       "    </tr>\n",
       "    <tr>\n",
       "      <th>std</th>\n",
       "      <td>0.90145</td>\n",
       "      <td>21.561885</td>\n",
       "    </tr>\n",
       "    <tr>\n",
       "      <th>min</th>\n",
       "      <td>2.50000</td>\n",
       "      <td>69.000000</td>\n",
       "    </tr>\n",
       "    <tr>\n",
       "      <th>25%</th>\n",
       "      <td>6.20000</td>\n",
       "      <td>102.000000</td>\n",
       "    </tr>\n",
       "    <tr>\n",
       "      <th>50%</th>\n",
       "      <td>6.80000</td>\n",
       "      <td>116.000000</td>\n",
       "    </tr>\n",
       "    <tr>\n",
       "      <th>75%</th>\n",
       "      <td>7.40000</td>\n",
       "      <td>130.000000</td>\n",
       "    </tr>\n",
       "    <tr>\n",
       "      <th>max</th>\n",
       "      <td>9.20000</td>\n",
       "      <td>238.000000</td>\n",
       "    </tr>\n",
       "  </tbody>\n",
       "</table>\n",
       "</div>"
      ],
      "text/plain": [
       "       Movie Rating     Duration\n",
       "count    1000.00000  1000.000000\n",
       "mean        6.80080   117.679000\n",
       "std         0.90145    21.561885\n",
       "min         2.50000    69.000000\n",
       "25%         6.20000   102.000000\n",
       "50%         6.80000   116.000000\n",
       "75%         7.40000   130.000000\n",
       "max         9.20000   238.000000"
      ]
     },
     "execution_count": 235,
     "metadata": {},
     "output_type": "execute_result"
    }
   ],
   "source": [
    "df.describe() # gives statistical insights"
   ]
  },
  {
   "cell_type": "code",
   "execution_count": 236,
   "id": "52b5e2af",
   "metadata": {},
   "outputs": [
    {
     "data": {
      "text/plain": [
       "Movie Title           0\n",
       "Year of Realease      0\n",
       "Genre                 0\n",
       "Movie Rating          0\n",
       "Duration              0\n",
       "Gross                 0\n",
       "Worldwide LT Gross    0\n",
       "Metascore             0\n",
       "Votes                 0\n",
       "Logline               0\n",
       "dtype: int64"
      ]
     },
     "execution_count": 236,
     "metadata": {},
     "output_type": "execute_result"
    }
   ],
   "source": [
    "df.isnull().sum()  # to check null values"
   ]
  },
  {
   "cell_type": "code",
   "execution_count": 237,
   "id": "cfa9edf4",
   "metadata": {},
   "outputs": [],
   "source": [
    "# cleaning the data\n",
    "cleaning_list = ['Year of Realease', 'Gross', 'Worldwide LT Gross', 'Metascore', 'Votes']\n",
    "for i in cleaning_list:\n",
    "    df[i] = df[i].replace(r\"[$|M|******|,|X]\", \"\",regex=True)\n",
    "    df[i] = pd.to_numeric(df[i])"
   ]
  },
  {
   "cell_type": "code",
   "execution_count": 238,
   "id": "dfe11d04",
   "metadata": {},
   "outputs": [
    {
     "data": {
      "text/html": [
       "<div>\n",
       "<style scoped>\n",
       "    .dataframe tbody tr th:only-of-type {\n",
       "        vertical-align: middle;\n",
       "    }\n",
       "\n",
       "    .dataframe tbody tr th {\n",
       "        vertical-align: top;\n",
       "    }\n",
       "\n",
       "    .dataframe thead th {\n",
       "        text-align: right;\n",
       "    }\n",
       "</style>\n",
       "<table border=\"1\" class=\"dataframe\">\n",
       "  <thead>\n",
       "    <tr style=\"text-align: right;\">\n",
       "      <th></th>\n",
       "      <th>Movie Title</th>\n",
       "      <th>Year of Realease</th>\n",
       "      <th>Genre</th>\n",
       "      <th>Movie Rating</th>\n",
       "      <th>Duration</th>\n",
       "      <th>Gross</th>\n",
       "      <th>Worldwide LT Gross</th>\n",
       "      <th>Metascore</th>\n",
       "      <th>Votes</th>\n",
       "      <th>Logline</th>\n",
       "    </tr>\n",
       "  </thead>\n",
       "  <tbody>\n",
       "    <tr>\n",
       "      <th>0</th>\n",
       "      <td>Avatar</td>\n",
       "      <td>2009</td>\n",
       "      <td>Action,Adventure,Fantasy</td>\n",
       "      <td>7.8</td>\n",
       "      <td>162</td>\n",
       "      <td>760.51</td>\n",
       "      <td>2847397339</td>\n",
       "      <td>83.0</td>\n",
       "      <td>1236962</td>\n",
       "      <td>A paraplegic Marine dispatched to the moon Pan...</td>\n",
       "    </tr>\n",
       "    <tr>\n",
       "      <th>1</th>\n",
       "      <td>Avengers: Endgame</td>\n",
       "      <td>2019</td>\n",
       "      <td>Action,Adventure,Drama</td>\n",
       "      <td>8.4</td>\n",
       "      <td>181</td>\n",
       "      <td>858.37</td>\n",
       "      <td>2797501328</td>\n",
       "      <td>78.0</td>\n",
       "      <td>1108641</td>\n",
       "      <td>After the devastating events of Avengers: Infi...</td>\n",
       "    </tr>\n",
       "    <tr>\n",
       "      <th>2</th>\n",
       "      <td>Titanic</td>\n",
       "      <td>1997</td>\n",
       "      <td>Drama,Romance</td>\n",
       "      <td>7.9</td>\n",
       "      <td>194</td>\n",
       "      <td>659.33</td>\n",
       "      <td>2201647264</td>\n",
       "      <td>75.0</td>\n",
       "      <td>1162142</td>\n",
       "      <td>A seventeen-year-old aristocrat falls in love ...</td>\n",
       "    </tr>\n",
       "    <tr>\n",
       "      <th>3</th>\n",
       "      <td>Star Wars: Episode VII - The Force Awakens</td>\n",
       "      <td>2015</td>\n",
       "      <td>Action,Adventure,Sci-Fi</td>\n",
       "      <td>7.8</td>\n",
       "      <td>138</td>\n",
       "      <td>936.66</td>\n",
       "      <td>2069521700</td>\n",
       "      <td>80.0</td>\n",
       "      <td>925551</td>\n",
       "      <td>As a new threat to the galaxy rises, Rey, a de...</td>\n",
       "    </tr>\n",
       "    <tr>\n",
       "      <th>4</th>\n",
       "      <td>Avengers: Infinity War</td>\n",
       "      <td>2018</td>\n",
       "      <td>Action,Adventure,Sci-Fi</td>\n",
       "      <td>8.4</td>\n",
       "      <td>149</td>\n",
       "      <td>678.82</td>\n",
       "      <td>2048359754</td>\n",
       "      <td>68.0</td>\n",
       "      <td>1062517</td>\n",
       "      <td>The Avengers and their allies must be willing ...</td>\n",
       "    </tr>\n",
       "  </tbody>\n",
       "</table>\n",
       "</div>"
      ],
      "text/plain": [
       "                                  Movie Title  Year of Realease  \\\n",
       "0                                      Avatar              2009   \n",
       "1                           Avengers: Endgame              2019   \n",
       "2                                     Titanic              1997   \n",
       "3  Star Wars: Episode VII - The Force Awakens              2015   \n",
       "4                      Avengers: Infinity War              2018   \n",
       "\n",
       "                      Genre  Movie Rating  Duration   Gross  \\\n",
       "0  Action,Adventure,Fantasy           7.8       162  760.51   \n",
       "1    Action,Adventure,Drama           8.4       181  858.37   \n",
       "2             Drama,Romance           7.9       194  659.33   \n",
       "3   Action,Adventure,Sci-Fi           7.8       138  936.66   \n",
       "4   Action,Adventure,Sci-Fi           8.4       149  678.82   \n",
       "\n",
       "   Worldwide LT Gross  Metascore    Votes  \\\n",
       "0          2847397339       83.0  1236962   \n",
       "1          2797501328       78.0  1108641   \n",
       "2          2201647264       75.0  1162142   \n",
       "3          2069521700       80.0   925551   \n",
       "4          2048359754       68.0  1062517   \n",
       "\n",
       "                                             Logline  \n",
       "0  A paraplegic Marine dispatched to the moon Pan...  \n",
       "1  After the devastating events of Avengers: Infi...  \n",
       "2  A seventeen-year-old aristocrat falls in love ...  \n",
       "3  As a new threat to the galaxy rises, Rey, a de...  \n",
       "4  The Avengers and their allies must be willing ...  "
      ]
     },
     "execution_count": 238,
     "metadata": {},
     "output_type": "execute_result"
    }
   ],
   "source": [
    "df.head()"
   ]
  },
  {
   "cell_type": "code",
   "execution_count": 239,
   "id": "f6332a4e",
   "metadata": {
    "scrolled": true
   },
   "outputs": [
    {
     "data": {
      "text/html": [
       "<div>\n",
       "<style scoped>\n",
       "    .dataframe tbody tr th:only-of-type {\n",
       "        vertical-align: middle;\n",
       "    }\n",
       "\n",
       "    .dataframe tbody tr th {\n",
       "        vertical-align: top;\n",
       "    }\n",
       "\n",
       "    .dataframe thead th {\n",
       "        text-align: right;\n",
       "    }\n",
       "</style>\n",
       "<table border=\"1\" class=\"dataframe\">\n",
       "  <thead>\n",
       "    <tr style=\"text-align: right;\">\n",
       "      <th></th>\n",
       "      <th>Year of Realease</th>\n",
       "      <th>Movie Rating</th>\n",
       "      <th>Duration</th>\n",
       "      <th>Gross</th>\n",
       "      <th>Worldwide LT Gross</th>\n",
       "      <th>Metascore</th>\n",
       "      <th>Votes</th>\n",
       "    </tr>\n",
       "  </thead>\n",
       "  <tbody>\n",
       "    <tr>\n",
       "      <th>count</th>\n",
       "      <td>1000.000000</td>\n",
       "      <td>1000.00000</td>\n",
       "      <td>1000.000000</td>\n",
       "      <td>966.000000</td>\n",
       "      <td>1.000000e+03</td>\n",
       "      <td>964.000000</td>\n",
       "      <td>1.000000e+03</td>\n",
       "    </tr>\n",
       "    <tr>\n",
       "      <th>mean</th>\n",
       "      <td>2007.611000</td>\n",
       "      <td>6.80080</td>\n",
       "      <td>117.679000</td>\n",
       "      <td>156.158975</td>\n",
       "      <td>4.105976e+08</td>\n",
       "      <td>59.644191</td>\n",
       "      <td>3.393784e+05</td>\n",
       "    </tr>\n",
       "    <tr>\n",
       "      <th>std</th>\n",
       "      <td>10.398067</td>\n",
       "      <td>0.90145</td>\n",
       "      <td>21.561885</td>\n",
       "      <td>110.629617</td>\n",
       "      <td>2.951927e+08</td>\n",
       "      <td>15.946919</td>\n",
       "      <td>3.231349e+05</td>\n",
       "    </tr>\n",
       "    <tr>\n",
       "      <th>min</th>\n",
       "      <td>1937.000000</td>\n",
       "      <td>2.50000</td>\n",
       "      <td>69.000000</td>\n",
       "      <td>0.010000</td>\n",
       "      <td>1.766002e+08</td>\n",
       "      <td>12.000000</td>\n",
       "      <td>3.960000e+02</td>\n",
       "    </tr>\n",
       "    <tr>\n",
       "      <th>25%</th>\n",
       "      <td>2002.000000</td>\n",
       "      <td>6.20000</td>\n",
       "      <td>102.000000</td>\n",
       "      <td>90.832500</td>\n",
       "      <td>2.220363e+08</td>\n",
       "      <td>48.000000</td>\n",
       "      <td>1.347940e+05</td>\n",
       "    </tr>\n",
       "    <tr>\n",
       "      <th>50%</th>\n",
       "      <td>2010.000000</td>\n",
       "      <td>6.80000</td>\n",
       "      <td>116.000000</td>\n",
       "      <td>129.245000</td>\n",
       "      <td>3.084121e+08</td>\n",
       "      <td>59.000000</td>\n",
       "      <td>2.448125e+05</td>\n",
       "    </tr>\n",
       "    <tr>\n",
       "      <th>75%</th>\n",
       "      <td>2016.000000</td>\n",
       "      <td>7.40000</td>\n",
       "      <td>130.000000</td>\n",
       "      <td>187.090000</td>\n",
       "      <td>4.733442e+08</td>\n",
       "      <td>71.000000</td>\n",
       "      <td>4.410002e+05</td>\n",
       "    </tr>\n",
       "    <tr>\n",
       "      <th>max</th>\n",
       "      <td>2022.000000</td>\n",
       "      <td>9.20000</td>\n",
       "      <td>238.000000</td>\n",
       "      <td>936.660000</td>\n",
       "      <td>2.847397e+09</td>\n",
       "      <td>100.000000</td>\n",
       "      <td>2.622926e+06</td>\n",
       "    </tr>\n",
       "  </tbody>\n",
       "</table>\n",
       "</div>"
      ],
      "text/plain": [
       "       Year of Realease  Movie Rating     Duration       Gross  \\\n",
       "count       1000.000000    1000.00000  1000.000000  966.000000   \n",
       "mean        2007.611000       6.80080   117.679000  156.158975   \n",
       "std           10.398067       0.90145    21.561885  110.629617   \n",
       "min         1937.000000       2.50000    69.000000    0.010000   \n",
       "25%         2002.000000       6.20000   102.000000   90.832500   \n",
       "50%         2010.000000       6.80000   116.000000  129.245000   \n",
       "75%         2016.000000       7.40000   130.000000  187.090000   \n",
       "max         2022.000000       9.20000   238.000000  936.660000   \n",
       "\n",
       "       Worldwide LT Gross   Metascore         Votes  \n",
       "count        1.000000e+03  964.000000  1.000000e+03  \n",
       "mean         4.105976e+08   59.644191  3.393784e+05  \n",
       "std          2.951927e+08   15.946919  3.231349e+05  \n",
       "min          1.766002e+08   12.000000  3.960000e+02  \n",
       "25%          2.220363e+08   48.000000  1.347940e+05  \n",
       "50%          3.084121e+08   59.000000  2.448125e+05  \n",
       "75%          4.733442e+08   71.000000  4.410002e+05  \n",
       "max          2.847397e+09  100.000000  2.622926e+06  "
      ]
     },
     "execution_count": 239,
     "metadata": {},
     "output_type": "execute_result"
    }
   ],
   "source": [
    "df.describe()"
   ]
  },
  {
   "cell_type": "code",
   "execution_count": 240,
   "id": "162f2c4f",
   "metadata": {},
   "outputs": [
    {
     "data": {
      "text/html": [
       "<div>\n",
       "<style scoped>\n",
       "    .dataframe tbody tr th:only-of-type {\n",
       "        vertical-align: middle;\n",
       "    }\n",
       "\n",
       "    .dataframe tbody tr th {\n",
       "        vertical-align: top;\n",
       "    }\n",
       "\n",
       "    .dataframe thead th {\n",
       "        text-align: right;\n",
       "    }\n",
       "</style>\n",
       "<table border=\"1\" class=\"dataframe\">\n",
       "  <thead>\n",
       "    <tr style=\"text-align: right;\">\n",
       "      <th></th>\n",
       "      <th>Gross</th>\n",
       "      <th>Metascore</th>\n",
       "    </tr>\n",
       "  </thead>\n",
       "  <tbody>\n",
       "    <tr>\n",
       "      <th>65</th>\n",
       "      <td>0.34</td>\n",
       "      <td>NaN</td>\n",
       "    </tr>\n",
       "    <tr>\n",
       "      <th>89</th>\n",
       "      <td>NaN</td>\n",
       "      <td>NaN</td>\n",
       "    </tr>\n",
       "    <tr>\n",
       "      <th>138</th>\n",
       "      <td>NaN</td>\n",
       "      <td>NaN</td>\n",
       "    </tr>\n",
       "    <tr>\n",
       "      <th>159</th>\n",
       "      <td>NaN</td>\n",
       "      <td>NaN</td>\n",
       "    </tr>\n",
       "    <tr>\n",
       "      <th>184</th>\n",
       "      <td>1.54</td>\n",
       "      <td>NaN</td>\n",
       "    </tr>\n",
       "    <tr>\n",
       "      <th>271</th>\n",
       "      <td>2.36</td>\n",
       "      <td>NaN</td>\n",
       "    </tr>\n",
       "    <tr>\n",
       "      <th>301</th>\n",
       "      <td>NaN</td>\n",
       "      <td>NaN</td>\n",
       "    </tr>\n",
       "    <tr>\n",
       "      <th>304</th>\n",
       "      <td>0.71</td>\n",
       "      <td>NaN</td>\n",
       "    </tr>\n",
       "    <tr>\n",
       "      <th>380</th>\n",
       "      <td>NaN</td>\n",
       "      <td>NaN</td>\n",
       "    </tr>\n",
       "    <tr>\n",
       "      <th>448</th>\n",
       "      <td>NaN</td>\n",
       "      <td>NaN</td>\n",
       "    </tr>\n",
       "    <tr>\n",
       "      <th>461</th>\n",
       "      <td>NaN</td>\n",
       "      <td>NaN</td>\n",
       "    </tr>\n",
       "    <tr>\n",
       "      <th>500</th>\n",
       "      <td>0.84</td>\n",
       "      <td>NaN</td>\n",
       "    </tr>\n",
       "    <tr>\n",
       "      <th>511</th>\n",
       "      <td>12.39</td>\n",
       "      <td>NaN</td>\n",
       "    </tr>\n",
       "    <tr>\n",
       "      <th>623</th>\n",
       "      <td>1.30</td>\n",
       "      <td>NaN</td>\n",
       "    </tr>\n",
       "    <tr>\n",
       "      <th>625</th>\n",
       "      <td>NaN</td>\n",
       "      <td>NaN</td>\n",
       "    </tr>\n",
       "    <tr>\n",
       "      <th>631</th>\n",
       "      <td>20.19</td>\n",
       "      <td>NaN</td>\n",
       "    </tr>\n",
       "    <tr>\n",
       "      <th>664</th>\n",
       "      <td>0.29</td>\n",
       "      <td>NaN</td>\n",
       "    </tr>\n",
       "    <tr>\n",
       "      <th>665</th>\n",
       "      <td>1.48</td>\n",
       "      <td>NaN</td>\n",
       "    </tr>\n",
       "    <tr>\n",
       "      <th>682</th>\n",
       "      <td>0.21</td>\n",
       "      <td>NaN</td>\n",
       "    </tr>\n",
       "    <tr>\n",
       "      <th>721</th>\n",
       "      <td>1.29</td>\n",
       "      <td>NaN</td>\n",
       "    </tr>\n",
       "    <tr>\n",
       "      <th>750</th>\n",
       "      <td>0.18</td>\n",
       "      <td>NaN</td>\n",
       "    </tr>\n",
       "    <tr>\n",
       "      <th>767</th>\n",
       "      <td>NaN</td>\n",
       "      <td>NaN</td>\n",
       "    </tr>\n",
       "    <tr>\n",
       "      <th>776</th>\n",
       "      <td>NaN</td>\n",
       "      <td>NaN</td>\n",
       "    </tr>\n",
       "    <tr>\n",
       "      <th>812</th>\n",
       "      <td>NaN</td>\n",
       "      <td>NaN</td>\n",
       "    </tr>\n",
       "    <tr>\n",
       "      <th>817</th>\n",
       "      <td>NaN</td>\n",
       "      <td>NaN</td>\n",
       "    </tr>\n",
       "    <tr>\n",
       "      <th>866</th>\n",
       "      <td>NaN</td>\n",
       "      <td>NaN</td>\n",
       "    </tr>\n",
       "    <tr>\n",
       "      <th>877</th>\n",
       "      <td>NaN</td>\n",
       "      <td>NaN</td>\n",
       "    </tr>\n",
       "    <tr>\n",
       "      <th>897</th>\n",
       "      <td>0.71</td>\n",
       "      <td>NaN</td>\n",
       "    </tr>\n",
       "    <tr>\n",
       "      <th>911</th>\n",
       "      <td>0.61</td>\n",
       "      <td>NaN</td>\n",
       "    </tr>\n",
       "    <tr>\n",
       "      <th>913</th>\n",
       "      <td>0.77</td>\n",
       "      <td>NaN</td>\n",
       "    </tr>\n",
       "    <tr>\n",
       "      <th>916</th>\n",
       "      <td>NaN</td>\n",
       "      <td>NaN</td>\n",
       "    </tr>\n",
       "    <tr>\n",
       "      <th>925</th>\n",
       "      <td>NaN</td>\n",
       "      <td>NaN</td>\n",
       "    </tr>\n",
       "    <tr>\n",
       "      <th>943</th>\n",
       "      <td>NaN</td>\n",
       "      <td>NaN</td>\n",
       "    </tr>\n",
       "    <tr>\n",
       "      <th>951</th>\n",
       "      <td>0.71</td>\n",
       "      <td>NaN</td>\n",
       "    </tr>\n",
       "    <tr>\n",
       "      <th>954</th>\n",
       "      <td>NaN</td>\n",
       "      <td>NaN</td>\n",
       "    </tr>\n",
       "    <tr>\n",
       "      <th>957</th>\n",
       "      <td>0.15</td>\n",
       "      <td>NaN</td>\n",
       "    </tr>\n",
       "  </tbody>\n",
       "</table>\n",
       "</div>"
      ],
      "text/plain": [
       "     Gross  Metascore\n",
       "65    0.34        NaN\n",
       "89     NaN        NaN\n",
       "138    NaN        NaN\n",
       "159    NaN        NaN\n",
       "184   1.54        NaN\n",
       "271   2.36        NaN\n",
       "301    NaN        NaN\n",
       "304   0.71        NaN\n",
       "380    NaN        NaN\n",
       "448    NaN        NaN\n",
       "461    NaN        NaN\n",
       "500   0.84        NaN\n",
       "511  12.39        NaN\n",
       "623   1.30        NaN\n",
       "625    NaN        NaN\n",
       "631  20.19        NaN\n",
       "664   0.29        NaN\n",
       "665   1.48        NaN\n",
       "682   0.21        NaN\n",
       "721   1.29        NaN\n",
       "750   0.18        NaN\n",
       "767    NaN        NaN\n",
       "776    NaN        NaN\n",
       "812    NaN        NaN\n",
       "817    NaN        NaN\n",
       "866    NaN        NaN\n",
       "877    NaN        NaN\n",
       "897   0.71        NaN\n",
       "911   0.61        NaN\n",
       "913   0.77        NaN\n",
       "916    NaN        NaN\n",
       "925    NaN        NaN\n",
       "943    NaN        NaN\n",
       "951   0.71        NaN\n",
       "954    NaN        NaN\n",
       "957   0.15        NaN"
      ]
     },
     "execution_count": 240,
     "metadata": {},
     "output_type": "execute_result"
    }
   ],
   "source": [
    "# null values after cleaning the data i.e; after changing data type\n",
    "df[['Gross','Metascore']][df['Metascore'].isnull()]"
   ]
  },
  {
   "cell_type": "code",
   "execution_count": 241,
   "id": "04c35d07",
   "metadata": {},
   "outputs": [
    {
     "data": {
      "text/plain": [
       "nan"
      ]
     },
     "execution_count": 241,
     "metadata": {},
     "output_type": "execute_result"
    }
   ],
   "source": [
    "df.iloc[11,5]"
   ]
  },
  {
   "cell_type": "code",
   "execution_count": 242,
   "id": "30d287c2",
   "metadata": {
    "scrolled": true
   },
   "outputs": [
    {
     "data": {
      "image/png": "[encoded data removed]",
      "text/plain": [
       "<Figure size 1008x432 with 1 Axes>"
      ]
     },
     "metadata": {
      "needs_background": "light"
     },
     "output_type": "display_data"
    }
   ],
   "source": [
    "# Count Plot Graphic\n",
    "# defining function to plot grapgh\n",
    "def count_plot(data): \n",
    "    plt.figure(figsize=(14,6))\n",
    "    ax = sns.countplot(x=data, palette= \"ch:start=.2,rot=-.3\", edgecolor='white', linewidth=1, order=data.value_counts().index)\n",
    "    plt.xticks(rotation=90)    \n",
    "    for c in ax.containers:\n",
    "        ax.bar_label(c, fmt='%.0f', label_type='edge')\n",
    "    \n",
    "# count plot for year of release\n",
    "count_plot(df['Year of Realease'])"
   ]
  },
  {
   "cell_type": "code",
   "execution_count": 243,
   "id": "5784682a",
   "metadata": {
    "scrolled": true
   },
   "outputs": [
    {
     "data": {
      "image/png": "[encoded data removed]",
      "text/plain": [
       "<Figure size 1008x432 with 1 Axes>"
      ]
     },
     "metadata": {
      "needs_background": "light"
     },
     "output_type": "display_data"
    }
   ],
   "source": [
    "# count plot for movie rating\n",
    "count_plot(df['Movie Rating'])"
   ]
  },
  {
   "cell_type": "code",
   "execution_count": 244,
   "id": "bc9ec5f7",
   "metadata": {
    "scrolled": false
   },
   "outputs": [
    {
     "data": {
      "image/png": "[encoded data removed]",
      "text/plain": [
       "<Figure size 576x720 with 1 Axes>"
      ]
     },
     "metadata": {
      "needs_background": "light"
     },
     "output_type": "display_data"
    }
   ],
   "source": [
    "# Genre columns get dummies\n",
    "gd_df_x = df['Genre'].str.get_dummies(sep=',')\n",
    "\n",
    "# Genre columns\n",
    "df_x = pd.DataFrame(gd_df_x.sum(),columns=['count'])\n",
    "df_x.sort_values(by = 'count',ascending = True,inplace = True)\n",
    "\n",
    "# plotting horizontal bar graph\n",
    "ax = df_x.plot(kind='barh',cmap='PRGn',figsize=(8,10),title='Count Genre Type')\n",
    "plt.legend(loc='lower right') # changing legend location\n",
    "for c in ax.containers:\n",
    "    ax.bar_label(c,fmt='%.0f',label_type='edge')"
   ]
  },
  {
   "cell_type": "code",
   "execution_count": 245,
   "id": "275aadd5",
   "metadata": {},
   "outputs": [],
   "source": [
    "# defining function to plot top 10 of individeal data\n",
    "def top_10_vis(data, title):\n",
    "    top_10_gross = df[['Movie Title',data]][0:10]\n",
    "    top_10_gross.sort_values(by=data, inplace=True)\n",
    "    ax   = top_10_gross.plot(kind='barh',color='salmon', figsize=(9,8) , title= title)\n",
    "    ax.set_yticklabels(list(top_10_gross['Movie Title']), minor=False)\n",
    "    plt.ylabel('The name of the movie' ,fontsize=16)\n",
    "    plt.xlabel(data ,fontsize=16)\n",
    "    ax.xaxis.grid(color='gray', linestyle='dashed')\n",
    "    ax.yaxis.set_tick_params(labelsize='large')"
   ]
  },
  {
   "cell_type": "code",
   "execution_count": 246,
   "id": "95f27fb2",
   "metadata": {},
   "outputs": [
    {
     "data": {
      "image/png": "[encoded data removed]",
      "text/plain": [
       "<Figure size 648x576 with 1 Axes>"
      ]
     },
     "metadata": {
      "needs_background": "light"
     },
     "output_type": "display_data"
    }
   ],
   "source": [
    "# plotting Top 10 Worldwide LT Gross\n",
    "top_10_vis('Worldwide LT Gross','Top 10 Worldwide LT Gross' )"
   ]
  },
  {
   "cell_type": "code",
   "execution_count": 247,
   "id": "dee12d09",
   "metadata": {},
   "outputs": [
    {
     "data": {
      "image/png": "[encoded data removed]",
      "text/plain": [
       "<Figure size 648x576 with 1 Axes>"
      ]
     },
     "metadata": {
      "needs_background": "light"
     },
     "output_type": "display_data"
    }
   ],
   "source": [
    "# plotting Top 10 Metascore\n",
    "top_10_vis('Metascore','Top 10 Metascore')"
   ]
  },
  {
   "cell_type": "code",
   "execution_count": 248,
   "id": "953abc38",
   "metadata": {},
   "outputs": [
    {
     "data": {
      "image/png": "[encoded data removed]",
      "text/plain": [
       "<Figure size 648x576 with 1 Axes>"
      ]
     },
     "metadata": {
      "needs_background": "light"
     },
     "output_type": "display_data"
    }
   ],
   "source": [
    "# plotting Top 10 Movie Rating\n",
    "top_10_vis('Movie Rating','Top 10 Movie Rating' )"
   ]
  },
  {
   "cell_type": "code",
   "execution_count": 249,
   "id": "ed896bef",
   "metadata": {},
   "outputs": [],
   "source": [
    "# function to format Worlwide LT Gross into readable number\n",
    "def number_ord(num):\n",
    "    num = float(\"{:.3g}\".format(num))\n",
    "    magnitude = 0\n",
    "    while abs(num) >= 1000:\n",
    "        magnitude += 1\n",
    "        num /= 1000.0\n",
    "    result = \"{}{}\".format(\"{:f}\".format(num).rstrip(\"0\").rstrip('.'), [\"\", \"K\", \"M\", \"B\", \"T\"][magnitude])\n",
    "    return result"
   ]
  },
  {
   "cell_type": "code",
   "execution_count": 250,
   "id": "a9230332",
   "metadata": {
    "scrolled": false
   },
   "outputs": [
    {
     "data": {
      "text/html": [
       "<div>\n",
       "<style scoped>\n",
       "    .dataframe tbody tr th:only-of-type {\n",
       "        vertical-align: middle;\n",
       "    }\n",
       "\n",
       "    .dataframe tbody tr th {\n",
       "        vertical-align: top;\n",
       "    }\n",
       "\n",
       "    .dataframe thead th {\n",
       "        text-align: right;\n",
       "    }\n",
       "</style>\n",
       "<table border=\"1\" class=\"dataframe\">\n",
       "  <thead>\n",
       "    <tr style=\"text-align: right;\">\n",
       "      <th></th>\n",
       "      <th>Worldwide LT Gross</th>\n",
       "      <th>Label</th>\n",
       "    </tr>\n",
       "    <tr>\n",
       "      <th>Genre</th>\n",
       "      <th></th>\n",
       "      <th></th>\n",
       "    </tr>\n",
       "  </thead>\n",
       "  <tbody>\n",
       "    <tr>\n",
       "      <th>Fantasy</th>\n",
       "      <td>403449830.0</td>\n",
       "      <td>$403M</td>\n",
       "    </tr>\n",
       "    <tr>\n",
       "      <th>Musical</th>\n",
       "      <td>396271103.0</td>\n",
       "      <td>$396M</td>\n",
       "    </tr>\n",
       "    <tr>\n",
       "      <th>Sci-Fi</th>\n",
       "      <td>392002999.5</td>\n",
       "      <td>$392M</td>\n",
       "    </tr>\n",
       "    <tr>\n",
       "      <th>Adventure</th>\n",
       "      <td>386320872.5</td>\n",
       "      <td>$386M</td>\n",
       "    </tr>\n",
       "    <tr>\n",
       "      <th>Animation</th>\n",
       "      <td>373515621.0</td>\n",
       "      <td>$374M</td>\n",
       "    </tr>\n",
       "    <tr>\n",
       "      <th>Action</th>\n",
       "      <td>352475309.5</td>\n",
       "      <td>$352M</td>\n",
       "    </tr>\n",
       "    <tr>\n",
       "      <th>Family</th>\n",
       "      <td>299820798.0</td>\n",
       "      <td>$300M</td>\n",
       "    </tr>\n",
       "    <tr>\n",
       "      <th>Thriller</th>\n",
       "      <td>293503354.0</td>\n",
       "      <td>$294M</td>\n",
       "    </tr>\n",
       "    <tr>\n",
       "      <th>History</th>\n",
       "      <td>282305622.0</td>\n",
       "      <td>$282M</td>\n",
       "    </tr>\n",
       "    <tr>\n",
       "      <th>Comedy</th>\n",
       "      <td>275688326.0</td>\n",
       "      <td>$276M</td>\n",
       "    </tr>\n",
       "    <tr>\n",
       "      <th>Drama</th>\n",
       "      <td>264622559.5</td>\n",
       "      <td>$265M</td>\n",
       "    </tr>\n",
       "    <tr>\n",
       "      <th>Mystery</th>\n",
       "      <td>256697520.0</td>\n",
       "      <td>$257M</td>\n",
       "    </tr>\n",
       "    <tr>\n",
       "      <th>Western</th>\n",
       "      <td>256389521.0</td>\n",
       "      <td>$256M</td>\n",
       "    </tr>\n",
       "    <tr>\n",
       "      <th>Music</th>\n",
       "      <td>252029333.0</td>\n",
       "      <td>$252M</td>\n",
       "    </tr>\n",
       "    <tr>\n",
       "      <th>Horror</th>\n",
       "      <td>246999039.0</td>\n",
       "      <td>$247M</td>\n",
       "    </tr>\n",
       "    <tr>\n",
       "      <th>Crime</th>\n",
       "      <td>242492263.5</td>\n",
       "      <td>$242M</td>\n",
       "    </tr>\n",
       "    <tr>\n",
       "      <th>Romance</th>\n",
       "      <td>241994073.0</td>\n",
       "      <td>$242M</td>\n",
       "    </tr>\n",
       "    <tr>\n",
       "      <th>Documentary</th>\n",
       "      <td>241815235.0</td>\n",
       "      <td>$242M</td>\n",
       "    </tr>\n",
       "    <tr>\n",
       "      <th>Sport</th>\n",
       "      <td>236313379.0</td>\n",
       "      <td>$236M</td>\n",
       "    </tr>\n",
       "    <tr>\n",
       "      <th>Biography</th>\n",
       "      <td>233555708.0</td>\n",
       "      <td>$234M</td>\n",
       "    </tr>\n",
       "    <tr>\n",
       "      <th>War</th>\n",
       "      <td>231976425.0</td>\n",
       "      <td>$232M</td>\n",
       "    </tr>\n",
       "  </tbody>\n",
       "</table>\n",
       "</div>"
      ],
      "text/plain": [
       "             Worldwide LT Gross  Label\n",
       "Genre                                 \n",
       "Fantasy             403449830.0  $403M\n",
       "Musical             396271103.0  $396M\n",
       "Sci-Fi              392002999.5  $392M\n",
       "Adventure           386320872.5  $386M\n",
       "Animation           373515621.0  $374M\n",
       "Action              352475309.5  $352M\n",
       "Family              299820798.0  $300M\n",
       "Thriller            293503354.0  $294M\n",
       "History             282305622.0  $282M\n",
       "Comedy              275688326.0  $276M\n",
       "Drama               264622559.5  $265M\n",
       "Mystery             256697520.0  $257M\n",
       "Western             256389521.0  $256M\n",
       "Music               252029333.0  $252M\n",
       "Horror              246999039.0  $247M\n",
       "Crime               242492263.5  $242M\n",
       "Romance             241994073.0  $242M\n",
       "Documentary         241815235.0  $242M\n",
       "Sport               236313379.0  $236M\n",
       "Biography           233555708.0  $234M\n",
       "War                 231976425.0  $232M"
      ]
     },
     "execution_count": 250,
     "metadata": {},
     "output_type": "execute_result"
    }
   ],
   "source": [
    "# grouping all the genre to create a new dataframe\n",
    "gen_df = df[['Genre','Worldwide LT Gross']]\n",
    "gen_df = gen_df.dropna(how = 'any', axis = 0)  # dropping null values if any\n",
    "gen_df['Genre'] = gen_df['Genre'].str.split(',')\n",
    "gen_df = gen_df.explode('Genre')\n",
    "gen_df = gen_df.groupby(['Genre']).median().sort_values(by = 'Worldwide LT Gross',ascending=False)\n",
    "\n",
    "gen_df['Label'] = gen_df['Worldwide LT Gross'].apply(lambda x:\"$\" + number_ord(x))\n",
    "# gen_df.reset_index(inplace=True)\n",
    "gen_df"
   ]
  },
  {
   "cell_type": "code",
   "execution_count": 251,
   "id": "350481c1",
   "metadata": {
    "scrolled": false
   },
   "outputs": [
    {
     "data": {
      "application/vnd.plotly.v1+json": {
       "config": {
        "plotlyServerURL": "https://plot.ly"
       },
       "data": [
        {
         "alignmentgroup": "True",
         "hovertemplate": "Genre=%{y}<br>Worldwide LT Gross=%{x}<br>Label=%{text}<extra></extra>",
         "legendgroup": "Fantasy",
         "marker": {
          "color": "#636efa",
          "pattern": {
           "shape": ""
          }
         },
         "name": "Fantasy",
         "offsetgroup": "Fantasy",
         "orientation": "h",
         "showlegend": true,
         "text": [
          "$403M"
         ],
         "textposition": "auto",
         "type": "bar",
         "x": [
          403449830
         ],
         "xaxis": "x",
         "y": [
          "Fantasy"
         ],
         "yaxis": "y"
        },
        {
         "alignmentgroup": "True",
         "hovertemplate": "Genre=%{y}<br>Worldwide LT Gross=%{x}<br>Label=%{text}<extra></extra>",
         "legendgroup": "Musical",
         "marker": {
          "color": "#EF553B",
          "pattern": {
           "shape": ""
          }
         },
         "name": "Musical",
         "offsetgroup": "Musical",
         "orientation": "h",
         "showlegend": true,
         "text": [
          "$396M"
         ],
         "textposition": "auto",
         "type": "bar",
         "x": [
          396271103
         ],
         "xaxis": "x",
         "y": [
          "Musical"
         ],
         "yaxis": "y"
        },
        {
         "alignmentgroup": "True",
         "hovertemplate": "Genre=%{y}<br>Worldwide LT Gross=%{x}<br>Label=%{text}<extra></extra>",
         "legendgroup": "Sci-Fi",
         "marker": {
          "color": "#00cc96",
          "pattern": {
           "shape": ""
          }
         },
         "name": "Sci-Fi",
         "offsetgroup": "Sci-Fi",
         "orientation": "h",
         "showlegend": true,
         "text": [
          "$392M"
         ],
         "textposition": "auto",
         "type": "bar",
         "x": [
          392002999.5
         ],
         "xaxis": "x",
         "y": [
          "Sci-Fi"
         ],
         "yaxis": "y"
        },
        {
         "alignmentgroup": "True",
         "hovertemplate": "Genre=%{y}<br>Worldwide LT Gross=%{x}<br>Label=%{text}<extra></extra>",
         "legendgroup": "Adventure",
         "marker": {
          "color": "#ab63fa",
          "pattern": {
           "shape": ""
          }
         },
         "name": "Adventure",
         "offsetgroup": "Adventure",
         "orientation": "h",
         "showlegend": true,
         "text": [
          "$386M"
         ],
         "textposition": "auto",
         "type": "bar",
         "x": [
          386320872.5
         ],
         "xaxis": "x",
         "y": [
          "Adventure"
         ],
         "yaxis": "y"
        },
        {
         "alignmentgroup": "True",
         "hovertemplate": "Genre=%{y}<br>Worldwide LT Gross=%{x}<br>Label=%{text}<extra></extra>",
         "legendgroup": "Animation",
         "marker": {
          "color": "#FFA15A",
          "pattern": {
           "shape": ""
          }
         },
         "name": "Animation",
         "offsetgroup": "Animation",
         "orientation": "h",
         "showlegend": true,
         "text": [
          "$374M"
         ],
         "textposition": "auto",
         "type": "bar",
         "x": [
          373515621
         ],
         "xaxis": "x",
         "y": [
          "Animation"
         ],
         "yaxis": "y"
        },
        {
         "alignmentgroup": "True",
         "hovertemplate": "Genre=%{y}<br>Worldwide LT Gross=%{x}<br>Label=%{text}<extra></extra>",
         "legendgroup": "Action",
         "marker": {
          "color": "#19d3f3",
          "pattern": {
           "shape": ""
          }
         },
         "name": "Action",
         "offsetgroup": "Action",
         "orientation": "h",
         "showlegend": true,
         "text": [
          "$352M"
         ],
         "textposition": "auto",
         "type": "bar",
         "x": [
          352475309.5
         ],
         "xaxis": "x",
         "y": [
          "Action"
         ],
         "yaxis": "y"
        },
        {
         "alignmentgroup": "True",
         "hovertemplate": "Genre=%{y}<br>Worldwide LT Gross=%{x}<br>Label=%{text}<extra></extra>",
         "legendgroup": "Family",
         "marker": {
          "color": "#FF6692",
          "pattern": {
           "shape": ""
          }
         },
         "name": "Family",
         "offsetgroup": "Family",
         "orientation": "h",
         "showlegend": true,
         "text": [
          "$300M"
         ],
         "textposition": "auto",
         "type": "bar",
         "x": [
          299820798
         ],
         "xaxis": "x",
         "y": [
          "Family"
         ],
         "yaxis": "y"
        },
        {
         "alignmentgroup": "True",
         "hovertemplate": "Genre=%{y}<br>Worldwide LT Gross=%{x}<br>Label=%{text}<extra></extra>",
         "legendgroup": "Thriller",
         "marker": {
          "color": "#B6E880",
          "pattern": {
           "shape": ""
          }
         },
         "name": "Thriller",
         "offsetgroup": "Thriller",
         "orientation": "h",
         "showlegend": true,
         "text": [
          "$294M"
         ],
         "textposition": "auto",
         "type": "bar",
         "x": [
          293503354
         ],
         "xaxis": "x",
         "y": [
          "Thriller"
         ],
         "yaxis": "y"
        },
        {
         "alignmentgroup": "True",
         "hovertemplate": "Genre=%{y}<br>Worldwide LT Gross=%{x}<br>Label=%{text}<extra></extra>",
         "legendgroup": "History",
         "marker": {
          "color": "#FF97FF",
          "pattern": {
           "shape": ""
          }
         },
         "name": "History",
         "offsetgroup": "History",
         "orientation": "h",
         "showlegend": true,
         "text": [
          "$282M"
         ],
         "textposition": "auto",
         "type": "bar",
         "x": [
          282305622
         ],
         "xaxis": "x",
         "y": [
          "History"
         ],
         "yaxis": "y"
        },
        {
         "alignmentgroup": "True",
         "hovertemplate": "Genre=%{y}<br>Worldwide LT Gross=%{x}<br>Label=%{text}<extra></extra>",
         "legendgroup": "Comedy",
         "marker": {
          "color": "#FECB52",
          "pattern": {
           "shape": ""
          }
         },
         "name": "Comedy",
         "offsetgroup": "Comedy",
         "orientation": "h",
         "showlegend": true,
         "text": [
          "$276M"
         ],
         "textposition": "auto",
         "type": "bar",
         "x": [
          275688326
         ],
         "xaxis": "x",
         "y": [
          "Comedy"
         ],
         "yaxis": "y"
        },
        {
         "alignmentgroup": "True",
         "hovertemplate": "Genre=%{y}<br>Worldwide LT Gross=%{x}<br>Label=%{text}<extra></extra>",
         "legendgroup": "Drama",
         "marker": {
          "color": "#636efa",
          "pattern": {
           "shape": ""
          }
         },
         "name": "Drama",
         "offsetgroup": "Drama",
         "orientation": "h",
         "showlegend": true,
         "text": [
          "$265M"
         ],
         "textposition": "auto",
         "type": "bar",
         "x": [
          264622559.5
         ],
         "xaxis": "x",
         "y": [
          "Drama"
         ],
         "yaxis": "y"
        },
        {
         "alignmentgroup": "True",
         "hovertemplate": "Genre=%{y}<br>Worldwide LT Gross=%{x}<br>Label=%{text}<extra></extra>",
         "legendgroup": "Mystery",
         "marker": {
          "color": "#EF553B",
          "pattern": {
           "shape": ""
          }
         },
         "name": "Mystery",
         "offsetgroup": "Mystery",
         "orientation": "h",
         "showlegend": true,
         "text": [
          "$257M"
         ],
         "textposition": "auto",
         "type": "bar",
         "x": [
          256697520
         ],
         "xaxis": "x",
         "y": [
          "Mystery"
         ],
         "yaxis": "y"
        },
        {
         "alignmentgroup": "True",
         "hovertemplate": "Genre=%{y}<br>Worldwide LT Gross=%{x}<br>Label=%{text}<extra></extra>",
         "legendgroup": "Western",
         "marker": {
          "color": "#00cc96",
          "pattern": {
           "shape": ""
          }
         },
         "name": "Western",
         "offsetgroup": "Western",
         "orientation": "h",
         "showlegend": true,
         "text": [
          "$256M"
         ],
         "textposition": "auto",
         "type": "bar",
         "x": [
          256389521
         ],
         "xaxis": "x",
         "y": [
          "Western"
         ],
         "yaxis": "y"
        },
        {
         "alignmentgroup": "True",
         "hovertemplate": "Genre=%{y}<br>Worldwide LT Gross=%{x}<br>Label=%{text}<extra></extra>",
         "legendgroup": "Music",
         "marker": {
          "color": "#ab63fa",
          "pattern": {
           "shape": ""
          }
         },
         "name": "Music",
         "offsetgroup": "Music",
         "orientation": "h",
         "showlegend": true,
         "text": [
          "$252M"
         ],
         "textposition": "auto",
         "type": "bar",
         "x": [
          252029333
         ],
         "xaxis": "x",
         "y": [
          "Music"
         ],
         "yaxis": "y"
        },
        {
         "alignmentgroup": "True",
         "hovertemplate": "Genre=%{y}<br>Worldwide LT Gross=%{x}<br>Label=%{text}<extra></extra>",
         "legendgroup": "Horror",
         "marker": {
          "color": "#FFA15A",
          "pattern": {
           "shape": ""
          }
         },
         "name": "Horror",
         "offsetgroup": "Horror",
         "orientation": "h",
         "showlegend": true,
         "text": [
          "$247M"
         ],
         "textposition": "auto",
         "type": "bar",
         "x": [
          246999039
         ],
         "xaxis": "x",
         "y": [
          "Horror"
         ],
         "yaxis": "y"
        },
        {
         "alignmentgroup": "True",
         "hovertemplate": "Genre=%{y}<br>Worldwide LT Gross=%{x}<br>Label=%{text}<extra></extra>",
         "legendgroup": "Crime",
         "marker": {
          "color": "#19d3f3",
          "pattern": {
           "shape": ""
          }
         },
         "name": "Crime",
         "offsetgroup": "Crime",
         "orientation": "h",
         "showlegend": true,
         "text": [
          "$242M"
         ],
         "textposition": "auto",
         "type": "bar",
         "x": [
          242492263.5
         ],
         "xaxis": "x",
         "y": [
          "Crime"
         ],
         "yaxis": "y"
        },
        {
         "alignmentgroup": "True",
         "hovertemplate": "Genre=%{y}<br>Worldwide LT Gross=%{x}<br>Label=%{text}<extra></extra>",
         "legendgroup": "Romance",
         "marker": {
          "color": "#FF6692",
          "pattern": {
           "shape": ""
          }
         },
         "name": "Romance",
         "offsetgroup": "Romance",
         "orientation": "h",
         "showlegend": true,
         "text": [
          "$242M"
         ],
         "textposition": "auto",
         "type": "bar",
         "x": [
          241994073
         ],
         "xaxis": "x",
         "y": [
          "Romance"
         ],
         "yaxis": "y"
        },
        {
         "alignmentgroup": "True",
         "hovertemplate": "Genre=%{y}<br>Worldwide LT Gross=%{x}<br>Label=%{text}<extra></extra>",
         "legendgroup": "Documentary",
         "marker": {
          "color": "#B6E880",
          "pattern": {
           "shape": ""
          }
         },
         "name": "Documentary",
         "offsetgroup": "Documentary",
         "orientation": "h",
         "showlegend": true,
         "text": [
          "$242M"
         ],
         "textposition": "auto",
         "type": "bar",
         "x": [
          241815235
         ],
         "xaxis": "x",
         "y": [
          "Documentary"
         ],
         "yaxis": "y"
        },
        {
         "alignmentgroup": "True",
         "hovertemplate": "Genre=%{y}<br>Worldwide LT Gross=%{x}<br>Label=%{text}<extra></extra>",
         "legendgroup": "Sport",
         "marker": {
          "color": "#FF97FF",
          "pattern": {
           "shape": ""
          }
         },
         "name": "Sport",
         "offsetgroup": "Sport",
         "orientation": "h",
         "showlegend": true,
         "text": [
          "$236M"
         ],
         "textposition": "auto",
         "type": "bar",
         "x": [
          236313379
         ],
         "xaxis": "x",
         "y": [
          "Sport"
         ],
         "yaxis": "y"
        },
        {
         "alignmentgroup": "True",
         "hovertemplate": "Genre=%{y}<br>Worldwide LT Gross=%{x}<br>Label=%{text}<extra></extra>",
         "legendgroup": "Biography",
         "marker": {
          "color": "#FECB52",
          "pattern": {
           "shape": ""
          }
         },
         "name": "Biography",
         "offsetgroup": "Biography",
         "orientation": "h",
         "showlegend": true,
         "text": [
          "$234M"
         ],
         "textposition": "auto",
         "type": "bar",
         "x": [
          233555708
         ],
         "xaxis": "x",
         "y": [
          "Biography"
         ],
         "yaxis": "y"
        },
        {
         "alignmentgroup": "True",
         "hovertemplate": "Genre=%{y}<br>Worldwide LT Gross=%{x}<br>Label=%{text}<extra></extra>",
         "legendgroup": "War",
         "marker": {
          "color": "#636efa",
          "pattern": {
           "shape": ""
          }
         },
         "name": "War",
         "offsetgroup": "War",
         "orientation": "h",
         "showlegend": true,
         "text": [
          "$232M"
         ],
         "textposition": "auto",
         "type": "bar",
         "x": [
          231976425
         ],
         "xaxis": "x",
         "y": [
          "War"
         ],
         "yaxis": "y"
        }
       ],
       "layout": {
        "barmode": "relative",
        "height": 700,
        "legend": {
         "title": {
          "text": "Genre"
         },
         "tracegroupgap": 0
        },
        "template": {
         "data": {
          "bar": [
           {
            "error_x": {
             "color": "#2a3f5f"
            },
            "error_y": {
             "color": "#2a3f5f"
            },
            "marker": {
             "line": {
              "color": "#E5ECF6",
              "width": 0.5
             },
             "pattern": {
              "fillmode": "overlay",
              "size": 10,
              "solidity": 0.2
             }
            },
            "type": "bar"
           }
          ],
          "barpolar": [
           {
            "marker": {
             "line": {
              "color": "#E5ECF6",
              "width": 0.5
             },
             "pattern": {
              "fillmode": "overlay",
              "size": 10,
              "solidity": 0.2
             }
            },
            "type": "barpolar"
           }
          ],
          "carpet": [
           {
            "aaxis": {
             "endlinecolor": "#2a3f5f",
             "gridcolor": "white",
             "linecolor": "white",
             "minorgridcolor": "white",
             "startlinecolor": "#2a3f5f"
            },
            "baxis": {
             "endlinecolor": "#2a3f5f",
             "gridcolor": "white",
             "linecolor": "white",
             "minorgridcolor": "white",
             "startlinecolor": "#2a3f5f"
            },
            "type": "carpet"
           }
          ],
          "choropleth": [
           {
            "colorbar": {
             "outlinewidth": 0,
             "ticks": ""
            },
            "type": "choropleth"
           }
          ],
          "contour": [
           {
            "colorbar": {
             "outlinewidth": 0,
             "ticks": ""
            },
            "colorscale": [
             [
              0,
              "#0d0887"
             ],
             [
              0.1111111111111111,
              "#46039f"
             ],
             [
              0.2222222222222222,
              "#7201a8"
             ],
             [
              0.3333333333333333,
              "#9c179e"
             ],
             [
              0.4444444444444444,
              "#bd3786"
             ],
             [
              0.5555555555555556,
              "#d8576b"
             ],
             [
              0.6666666666666666,
              "#ed7953"
             ],
             [
              0.7777777777777778,
              "#fb9f3a"
             ],
             [
              0.8888888888888888,
              "#fdca26"
             ],
             [
              1,
              "#f0f921"
             ]
            ],
            "type": "contour"
           }
          ],
          "contourcarpet": [
           {
            "colorbar": {
             "outlinewidth": 0,
             "ticks": ""
            },
            "type": "contourcarpet"
           }
          ],
          "heatmap": [
           {
            "colorbar": {
             "outlinewidth": 0,
             "ticks": ""
            },
            "colorscale": [
             [
              0,
              "#0d0887"
             ],
             [
              0.1111111111111111,
              "#46039f"
             ],
             [
              0.2222222222222222,
              "#7201a8"
             ],
             [
              0.3333333333333333,
              "#9c179e"
             ],
             [
              0.4444444444444444,
              "#bd3786"
             ],
             [
              0.5555555555555556,
              "#d8576b"
             ],
             [
              0.6666666666666666,
              "#ed7953"
             ],
             [
              0.7777777777777778,
              "#fb9f3a"
             ],
             [
              0.8888888888888888,
              "#fdca26"
             ],
             [
              1,
              "#f0f921"
             ]
            ],
            "type": "heatmap"
           }
          ],
          "heatmapgl": [
           {
            "colorbar": {
             "outlinewidth": 0,
             "ticks": ""
            },
            "colorscale": [
             [
              0,
              "#0d0887"
             ],
             [
              0.1111111111111111,
              "#46039f"
             ],
             [
              0.2222222222222222,
              "#7201a8"
             ],
             [
              0.3333333333333333,
              "#9c179e"
             ],
             [
              0.4444444444444444,
              "#bd3786"
             ],
             [
              0.5555555555555556,
              "#d8576b"
             ],
             [
              0.6666666666666666,
              "#ed7953"
             ],
             [
              0.7777777777777778,
              "#fb9f3a"
             ],
             [
              0.8888888888888888,
              "#fdca26"
             ],
             [
              1,
              "#f0f921"
             ]
            ],
            "type": "heatmapgl"
           }
          ],
          "histogram": [
           {
            "marker": {
             "pattern": {
              "fillmode": "overlay",
              "size": 10,
              "solidity": 0.2
             }
            },
            "type": "histogram"
           }
          ],
          "histogram2d": [
           {
            "colorbar": {
             "outlinewidth": 0,
             "ticks": ""
            },
            "colorscale": [
             [
              0,
              "#0d0887"
             ],
             [
              0.1111111111111111,
              "#46039f"
             ],
             [
              0.2222222222222222,
              "#7201a8"
             ],
             [
              0.3333333333333333,
              "#9c179e"
             ],
             [
              0.4444444444444444,
              "#bd3786"
             ],
             [
              0.5555555555555556,
              "#d8576b"
             ],
             [
              0.6666666666666666,
              "#ed7953"
             ],
             [
              0.7777777777777778,
              "#fb9f3a"
             ],
             [
              0.8888888888888888,
              "#fdca26"
             ],
             [
              1,
              "#f0f921"
             ]
            ],
            "type": "histogram2d"
           }
          ],
          "histogram2dcontour": [
           {
            "colorbar": {
             "outlinewidth": 0,
             "ticks": ""
            },
            "colorscale": [
             [
              0,
              "#0d0887"
             ],
             [
              0.1111111111111111,
              "#46039f"
             ],
             [
              0.2222222222222222,
              "#7201a8"
             ],
             [
              0.3333333333333333,
              "#9c179e"
             ],
             [
              0.4444444444444444,
              "#bd3786"
             ],
             [
              0.5555555555555556,
              "#d8576b"
             ],
             [
              0.6666666666666666,
              "#ed7953"
             ],
             [
              0.7777777777777778,
              "#fb9f3a"
             ],
             [
              0.8888888888888888,
              "#fdca26"
             ],
             [
              1,
              "#f0f921"
             ]
            ],
            "type": "histogram2dcontour"
           }
          ],
          "mesh3d": [
           {
            "colorbar": {
             "outlinewidth": 0,
             "ticks": ""
            },
            "type": "mesh3d"
           }
          ],
          "parcoords": [
           {
            "line": {
             "colorbar": {
              "outlinewidth": 0,
              "ticks": ""
             }
            },
            "type": "parcoords"
           }
          ],
          "pie": [
           {
            "automargin": true,
            "type": "pie"
           }
          ],
          "scatter": [
           {
            "fillpattern": {
             "fillmode": "overlay",
             "size": 10,
             "solidity": 0.2
            },
            "type": "scatter"
           }
          ],
          "scatter3d": [
           {
            "line": {
             "colorbar": {
              "outlinewidth": 0,
              "ticks": ""
             }
            },
            "marker": {
             "colorbar": {
              "outlinewidth": 0,
              "ticks": ""
             }
            },
            "type": "scatter3d"
           }
          ],
          "scattercarpet": [
           {
            "marker": {
             "colorbar": {
              "outlinewidth": 0,
              "ticks": ""
             }
            },
            "type": "scattercarpet"
           }
          ],
          "scattergeo": [
           {
            "marker": {
             "colorbar": {
              "outlinewidth": 0,
              "ticks": ""
             }
            },
            "type": "scattergeo"
           }
          ],
          "scattergl": [
           {
            "marker": {
             "colorbar": {
              "outlinewidth": 0,
              "ticks": ""
             }
            },
            "type": "scattergl"
           }
          ],
          "scattermapbox": [
           {
            "marker": {
             "colorbar": {
              "outlinewidth": 0,
              "ticks": ""
             }
            },
            "type": "scattermapbox"
           }
          ],
          "scatterpolar": [
           {
            "marker": {
             "colorbar": {
              "outlinewidth": 0,
              "ticks": ""
             }
            },
            "type": "scatterpolar"
           }
          ],
          "scatterpolargl": [
           {
            "marker": {
             "colorbar": {
              "outlinewidth": 0,
              "ticks": ""
             }
            },
            "type": "scatterpolargl"
           }
          ],
          "scatterternary": [
           {
            "marker": {
             "colorbar": {
              "outlinewidth": 0,
              "ticks": ""
             }
            },
            "type": "scatterternary"
           }
          ],
          "surface": [
           {
            "colorbar": {
             "outlinewidth": 0,
             "ticks": ""
            },
            "colorscale": [
             [
              0,
              "#0d0887"
             ],
             [
              0.1111111111111111,
              "#46039f"
             ],
             [
              0.2222222222222222,
              "#7201a8"
             ],
             [
              0.3333333333333333,
              "#9c179e"
             ],
             [
              0.4444444444444444,
              "#bd3786"
             ],
             [
              0.5555555555555556,
              "#d8576b"
             ],
             [
              0.6666666666666666,
              "#ed7953"
             ],
             [
              0.7777777777777778,
              "#fb9f3a"
             ],
             [
              0.8888888888888888,
              "#fdca26"
             ],
             [
              1,
              "#f0f921"
             ]
            ],
            "type": "surface"
           }
          ],
          "table": [
           {
            "cells": {
             "fill": {
              "color": "#EBF0F8"
             },
             "line": {
              "color": "white"
             }
            },
            "header": {
             "fill": {
              "color": "#C8D4E3"
             },
             "line": {
              "color": "white"
             }
            },
            "type": "table"
           }
          ]
         },
         "layout": {
          "annotationdefaults": {
           "arrowcolor": "#2a3f5f",
           "arrowhead": 0,
           "arrowwidth": 1
          },
          "autotypenumbers": "strict",
          "coloraxis": {
           "colorbar": {
            "outlinewidth": 0,
            "ticks": ""
           }
          },
          "colorscale": {
           "diverging": [
            [
             0,
             "#8e0152"
            ],
            [
             0.1,
             "#c51b7d"
            ],
            [
             0.2,
             "#de77ae"
            ],
            [
             0.3,
             "#f1b6da"
            ],
            [
             0.4,
             "#fde0ef"
            ],
            [
             0.5,
             "#f7f7f7"
            ],
            [
             0.6,
             "#e6f5d0"
            ],
            [
             0.7,
             "#b8e186"
            ],
            [
             0.8,
             "#7fbc41"
            ],
            [
             0.9,
             "#4d9221"
            ],
            [
             1,
             "#276419"
            ]
           ],
           "sequential": [
            [
             0,
             "#0d0887"
            ],
            [
             0.1111111111111111,
             "#46039f"
            ],
            [
             0.2222222222222222,
             "#7201a8"
            ],
            [
             0.3333333333333333,
             "#9c179e"
            ],
            [
             0.4444444444444444,
             "#bd3786"
            ],
            [
             0.5555555555555556,
             "#d8576b"
            ],
            [
             0.6666666666666666,
             "#ed7953"
            ],
            [
             0.7777777777777778,
             "#fb9f3a"
            ],
            [
             0.8888888888888888,
             "#fdca26"
            ],
            [
             1,
             "#f0f921"
            ]
           ],
           "sequentialminus": [
            [
             0,
             "#0d0887"
            ],
            [
             0.1111111111111111,
             "#46039f"
            ],
            [
             0.2222222222222222,
             "#7201a8"
            ],
            [
             0.3333333333333333,
             "#9c179e"
            ],
            [
             0.4444444444444444,
             "#bd3786"
            ],
            [
             0.5555555555555556,
             "#d8576b"
            ],
            [
             0.6666666666666666,
             "#ed7953"
            ],
            [
             0.7777777777777778,
             "#fb9f3a"
            ],
            [
             0.8888888888888888,
             "#fdca26"
            ],
            [
             1,
             "#f0f921"
            ]
           ]
          },
          "colorway": [
           "#636efa",
           "#EF553B",
           "#00cc96",
           "#ab63fa",
           "#FFA15A",
           "#19d3f3",
           "#FF6692",
           "#B6E880",
           "#FF97FF",
           "#FECB52"
          ],
          "font": {
           "color": "#2a3f5f"
          },
          "geo": {
           "bgcolor": "white",
           "lakecolor": "white",
           "landcolor": "#E5ECF6",
           "showlakes": true,
           "showland": true,
           "subunitcolor": "white"
          },
          "hoverlabel": {
           "align": "left"
          },
          "hovermode": "closest",
          "mapbox": {
           "style": "light"
          },
          "paper_bgcolor": "white",
          "plot_bgcolor": "#E5ECF6",
          "polar": {
           "angularaxis": {
            "gridcolor": "white",
            "linecolor": "white",
            "ticks": ""
           },
           "bgcolor": "#E5ECF6",
           "radialaxis": {
            "gridcolor": "white",
            "linecolor": "white",
            "ticks": ""
           }
          },
          "scene": {
           "xaxis": {
            "backgroundcolor": "#E5ECF6",
            "gridcolor": "white",
            "gridwidth": 2,
            "linecolor": "white",
            "showbackground": true,
            "ticks": "",
            "zerolinecolor": "white"
           },
           "yaxis": {
            "backgroundcolor": "#E5ECF6",
            "gridcolor": "white",
            "gridwidth": 2,
            "linecolor": "white",
            "showbackground": true,
            "ticks": "",
            "zerolinecolor": "white"
           },
           "zaxis": {
            "backgroundcolor": "#E5ECF6",
            "gridcolor": "white",
            "gridwidth": 2,
            "linecolor": "white",
            "showbackground": true,
            "ticks": "",
            "zerolinecolor": "white"
           }
          },
          "shapedefaults": {
           "line": {
            "color": "#2a3f5f"
           }
          },
          "ternary": {
           "aaxis": {
            "gridcolor": "white",
            "linecolor": "white",
            "ticks": ""
           },
           "baxis": {
            "gridcolor": "white",
            "linecolor": "white",
            "ticks": ""
           },
           "bgcolor": "#E5ECF6",
           "caxis": {
            "gridcolor": "white",
            "linecolor": "white",
            "ticks": ""
           }
          },
          "title": {
           "x": 0.05
          },
          "xaxis": {
           "automargin": true,
           "gridcolor": "white",
           "linecolor": "white",
           "ticks": "",
           "title": {
            "standoff": 15
           },
           "zerolinecolor": "white",
           "zerolinewidth": 2
          },
          "yaxis": {
           "automargin": true,
           "gridcolor": "white",
           "linecolor": "white",
           "ticks": "",
           "title": {
            "standoff": 15
           },
           "zerolinecolor": "white",
           "zerolinewidth": 2
          }
         }
        },
        "title": {
         "text": "Movie Genre vs. Worldwide LT Gross"
        },
        "width": 700,
        "xaxis": {
         "anchor": "y",
         "domain": [
          0,
          1
         ],
         "title": {
          "text": "Worldwide LT Gross"
         }
        },
        "yaxis": {
         "anchor": "x",
         "categoryarray": [
          "War",
          "Biography",
          "Sport",
          "Documentary",
          "Romance",
          "Crime",
          "Horror",
          "Music",
          "Western",
          "Mystery",
          "Drama",
          "Comedy",
          "History",
          "Thriller",
          "Family",
          "Action",
          "Animation",
          "Adventure",
          "Sci-Fi",
          "Musical",
          "Fantasy"
         ],
         "categoryorder": "array",
         "domain": [
          0,
          1
         ],
         "title": {
          "text": "Genre"
         }
        }
       }
      },
      "text/html": [
       "<div>                            <div id=\"7be449f7-1007-4bcc-a529-924cf425d9bc\" class=\"plotly-graph-div\" style=\"height:700px; width:700px;\"></div>            <script type=\"text/javascript\">                require([\"plotly\"], function(Plotly) {                    window.PLOTLYENV=window.PLOTLYENV || {};                                    if (document.getElementById(\"7be449f7-1007-4bcc-a529-924cf425d9bc\")) {                    Plotly.newPlot(                        \"7be449f7-1007-4bcc-a529-924cf425d9bc\",                        [{\"alignmentgroup\":\"True\",\"hovertemplate\":\"Genre=%{y}<br>Worldwide LT Gross=%{x}<br>Label=%{text}<extra></extra>\",\"legendgroup\":\"Fantasy\",\"marker\":{\"color\":\"#636efa\",\"pattern\":{\"shape\":\"\"}},\"name\":\"Fantasy\",\"offsetgroup\":\"Fantasy\",\"orientation\":\"h\",\"showlegend\":true,\"text\":[\"$403M\"],\"textposition\":\"auto\",\"x\":[403449830.0],\"xaxis\":\"x\",\"y\":[\"Fantasy\"],\"yaxis\":\"y\",\"type\":\"bar\"},{\"alignmentgroup\":\"True\",\"hovertemplate\":\"Genre=%{y}<br>Worldwide LT Gross=%{x}<br>Label=%{text}<extra></extra>\",\"legendgroup\":\"Musical\",\"marker\":{\"color\":\"#EF553B\",\"pattern\":{\"shape\":\"\"}},\"name\":\"Musical\",\"offsetgroup\":\"Musical\",\"orientation\":\"h\",\"showlegend\":true,\"text\":[\"$396M\"],\"textposition\":\"auto\",\"x\":[396271103.0],\"xaxis\":\"x\",\"y\":[\"Musical\"],\"yaxis\":\"y\",\"type\":\"bar\"},{\"alignmentgroup\":\"True\",\"hovertemplate\":\"Genre=%{y}<br>Worldwide LT Gross=%{x}<br>Label=%{text}<extra></extra>\",\"legendgroup\":\"Sci-Fi\",\"marker\":{\"color\":\"#00cc96\",\"pattern\":{\"shape\":\"\"}},\"name\":\"Sci-Fi\",\"offsetgroup\":\"Sci-Fi\",\"orientation\":\"h\",\"showlegend\":true,\"text\":[\"$392M\"],\"textposition\":\"auto\",\"x\":[392002999.5],\"xaxis\":\"x\",\"y\":[\"Sci-Fi\"],\"yaxis\":\"y\",\"type\":\"bar\"},{\"alignmentgroup\":\"True\",\"hovertemplate\":\"Genre=%{y}<br>Worldwide LT Gross=%{x}<br>Label=%{text}<extra></extra>\",\"legendgroup\":\"Adventure\",\"marker\":{\"color\":\"#ab63fa\",\"pattern\":{\"shape\":\"\"}},\"name\":\"Adventure\",\"offsetgroup\":\"Adventure\",\"orientation\":\"h\",\"showlegend\":true,\"text\":[\"$386M\"],\"textposition\":\"auto\",\"x\":[386320872.5],\"xaxis\":\"x\",\"y\":[\"Adventure\"],\"yaxis\":\"y\",\"type\":\"bar\"},{\"alignmentgroup\":\"True\",\"hovertemplate\":\"Genre=%{y}<br>Worldwide LT Gross=%{x}<br>Label=%{text}<extra></extra>\",\"legendgroup\":\"Animation\",\"marker\":{\"color\":\"#FFA15A\",\"pattern\":{\"shape\":\"\"}},\"name\":\"Animation\",\"offsetgroup\":\"Animation\",\"orientation\":\"h\",\"showlegend\":true,\"text\":[\"$374M\"],\"textposition\":\"auto\",\"x\":[373515621.0],\"xaxis\":\"x\",\"y\":[\"Animation\"],\"yaxis\":\"y\",\"type\":\"bar\"},{\"alignmentgroup\":\"True\",\"hovertemplate\":\"Genre=%{y}<br>Worldwide LT Gross=%{x}<br>Label=%{text}<extra></extra>\",\"legendgroup\":\"Action\",\"marker\":{\"color\":\"#19d3f3\",\"pattern\":{\"shape\":\"\"}},\"name\":\"Action\",\"offsetgroup\":\"Action\",\"orientation\":\"h\",\"showlegend\":true,\"text\":[\"$352M\"],\"textposition\":\"auto\",\"x\":[352475309.5],\"xaxis\":\"x\",\"y\":[\"Action\"],\"yaxis\":\"y\",\"type\":\"bar\"},{\"alignmentgroup\":\"True\",\"hovertemplate\":\"Genre=%{y}<br>Worldwide LT Gross=%{x}<br>Label=%{text}<extra></extra>\",\"legendgroup\":\"Family\",\"marker\":{\"color\":\"#FF6692\",\"pattern\":{\"shape\":\"\"}},\"name\":\"Family\",\"offsetgroup\":\"Family\",\"orientation\":\"h\",\"showlegend\":true,\"text\":[\"$300M\"],\"textposition\":\"auto\",\"x\":[299820798.0],\"xaxis\":\"x\",\"y\":[\"Family\"],\"yaxis\":\"y\",\"type\":\"bar\"},{\"alignmentgroup\":\"True\",\"hovertemplate\":\"Genre=%{y}<br>Worldwide LT Gross=%{x}<br>Label=%{text}<extra></extra>\",\"legendgroup\":\"Thriller\",\"marker\":{\"color\":\"#B6E880\",\"pattern\":{\"shape\":\"\"}},\"name\":\"Thriller\",\"offsetgroup\":\"Thriller\",\"orientation\":\"h\",\"showlegend\":true,\"text\":[\"$294M\"],\"textposition\":\"auto\",\"x\":[293503354.0],\"xaxis\":\"x\",\"y\":[\"Thriller\"],\"yaxis\":\"y\",\"type\":\"bar\"},{\"alignmentgroup\":\"True\",\"hovertemplate\":\"Genre=%{y}<br>Worldwide LT Gross=%{x}<br>Label=%{text}<extra></extra>\",\"legendgroup\":\"History\",\"marker\":{\"color\":\"#FF97FF\",\"pattern\":{\"shape\":\"\"}},\"name\":\"History\",\"offsetgroup\":\"History\",\"orientation\":\"h\",\"showlegend\":true,\"text\":[\"$282M\"],\"textposition\":\"auto\",\"x\":[282305622.0],\"xaxis\":\"x\",\"y\":[\"History\"],\"yaxis\":\"y\",\"type\":\"bar\"},{\"alignmentgroup\":\"True\",\"hovertemplate\":\"Genre=%{y}<br>Worldwide LT Gross=%{x}<br>Label=%{text}<extra></extra>\",\"legendgroup\":\"Comedy\",\"marker\":{\"color\":\"#FECB52\",\"pattern\":{\"shape\":\"\"}},\"name\":\"Comedy\",\"offsetgroup\":\"Comedy\",\"orientation\":\"h\",\"showlegend\":true,\"text\":[\"$276M\"],\"textposition\":\"auto\",\"x\":[275688326.0],\"xaxis\":\"x\",\"y\":[\"Comedy\"],\"yaxis\":\"y\",\"type\":\"bar\"},{\"alignmentgroup\":\"True\",\"hovertemplate\":\"Genre=%{y}<br>Worldwide LT Gross=%{x}<br>Label=%{text}<extra></extra>\",\"legendgroup\":\"Drama\",\"marker\":{\"color\":\"#636efa\",\"pattern\":{\"shape\":\"\"}},\"name\":\"Drama\",\"offsetgroup\":\"Drama\",\"orientation\":\"h\",\"showlegend\":true,\"text\":[\"$265M\"],\"textposition\":\"auto\",\"x\":[264622559.5],\"xaxis\":\"x\",\"y\":[\"Drama\"],\"yaxis\":\"y\",\"type\":\"bar\"},{\"alignmentgroup\":\"True\",\"hovertemplate\":\"Genre=%{y}<br>Worldwide LT Gross=%{x}<br>Label=%{text}<extra></extra>\",\"legendgroup\":\"Mystery\",\"marker\":{\"color\":\"#EF553B\",\"pattern\":{\"shape\":\"\"}},\"name\":\"Mystery\",\"offsetgroup\":\"Mystery\",\"orientation\":\"h\",\"showlegend\":true,\"text\":[\"$257M\"],\"textposition\":\"auto\",\"x\":[256697520.0],\"xaxis\":\"x\",\"y\":[\"Mystery\"],\"yaxis\":\"y\",\"type\":\"bar\"},{\"alignmentgroup\":\"True\",\"hovertemplate\":\"Genre=%{y}<br>Worldwide LT Gross=%{x}<br>Label=%{text}<extra></extra>\",\"legendgroup\":\"Western\",\"marker\":{\"color\":\"#00cc96\",\"pattern\":{\"shape\":\"\"}},\"name\":\"Western\",\"offsetgroup\":\"Western\",\"orientation\":\"h\",\"showlegend\":true,\"text\":[\"$256M\"],\"textposition\":\"auto\",\"x\":[256389521.0],\"xaxis\":\"x\",\"y\":[\"Western\"],\"yaxis\":\"y\",\"type\":\"bar\"},{\"alignmentgroup\":\"True\",\"hovertemplate\":\"Genre=%{y}<br>Worldwide LT Gross=%{x}<br>Label=%{text}<extra></extra>\",\"legendgroup\":\"Music\",\"marker\":{\"color\":\"#ab63fa\",\"pattern\":{\"shape\":\"\"}},\"name\":\"Music\",\"offsetgroup\":\"Music\",\"orientation\":\"h\",\"showlegend\":true,\"text\":[\"$252M\"],\"textposition\":\"auto\",\"x\":[252029333.0],\"xaxis\":\"x\",\"y\":[\"Music\"],\"yaxis\":\"y\",\"type\":\"bar\"},{\"alignmentgroup\":\"True\",\"hovertemplate\":\"Genre=%{y}<br>Worldwide LT Gross=%{x}<br>Label=%{text}<extra></extra>\",\"legendgroup\":\"Horror\",\"marker\":{\"color\":\"#FFA15A\",\"pattern\":{\"shape\":\"\"}},\"name\":\"Horror\",\"offsetgroup\":\"Horror\",\"orientation\":\"h\",\"showlegend\":true,\"text\":[\"$247M\"],\"textposition\":\"auto\",\"x\":[246999039.0],\"xaxis\":\"x\",\"y\":[\"Horror\"],\"yaxis\":\"y\",\"type\":\"bar\"},{\"alignmentgroup\":\"True\",\"hovertemplate\":\"Genre=%{y}<br>Worldwide LT Gross=%{x}<br>Label=%{text}<extra></extra>\",\"legendgroup\":\"Crime\",\"marker\":{\"color\":\"#19d3f3\",\"pattern\":{\"shape\":\"\"}},\"name\":\"Crime\",\"offsetgroup\":\"Crime\",\"orientation\":\"h\",\"showlegend\":true,\"text\":[\"$242M\"],\"textposition\":\"auto\",\"x\":[242492263.5],\"xaxis\":\"x\",\"y\":[\"Crime\"],\"yaxis\":\"y\",\"type\":\"bar\"},{\"alignmentgroup\":\"True\",\"hovertemplate\":\"Genre=%{y}<br>Worldwide LT Gross=%{x}<br>Label=%{text}<extra></extra>\",\"legendgroup\":\"Romance\",\"marker\":{\"color\":\"#FF6692\",\"pattern\":{\"shape\":\"\"}},\"name\":\"Romance\",\"offsetgroup\":\"Romance\",\"orientation\":\"h\",\"showlegend\":true,\"text\":[\"$242M\"],\"textposition\":\"auto\",\"x\":[241994073.0],\"xaxis\":\"x\",\"y\":[\"Romance\"],\"yaxis\":\"y\",\"type\":\"bar\"},{\"alignmentgroup\":\"True\",\"hovertemplate\":\"Genre=%{y}<br>Worldwide LT Gross=%{x}<br>Label=%{text}<extra></extra>\",\"legendgroup\":\"Documentary\",\"marker\":{\"color\":\"#B6E880\",\"pattern\":{\"shape\":\"\"}},\"name\":\"Documentary\",\"offsetgroup\":\"Documentary\",\"orientation\":\"h\",\"showlegend\":true,\"text\":[\"$242M\"],\"textposition\":\"auto\",\"x\":[241815235.0],\"xaxis\":\"x\",\"y\":[\"Documentary\"],\"yaxis\":\"y\",\"type\":\"bar\"},{\"alignmentgroup\":\"True\",\"hovertemplate\":\"Genre=%{y}<br>Worldwide LT Gross=%{x}<br>Label=%{text}<extra></extra>\",\"legendgroup\":\"Sport\",\"marker\":{\"color\":\"#FF97FF\",\"pattern\":{\"shape\":\"\"}},\"name\":\"Sport\",\"offsetgroup\":\"Sport\",\"orientation\":\"h\",\"showlegend\":true,\"text\":[\"$236M\"],\"textposition\":\"auto\",\"x\":[236313379.0],\"xaxis\":\"x\",\"y\":[\"Sport\"],\"yaxis\":\"y\",\"type\":\"bar\"},{\"alignmentgroup\":\"True\",\"hovertemplate\":\"Genre=%{y}<br>Worldwide LT Gross=%{x}<br>Label=%{text}<extra></extra>\",\"legendgroup\":\"Biography\",\"marker\":{\"color\":\"#FECB52\",\"pattern\":{\"shape\":\"\"}},\"name\":\"Biography\",\"offsetgroup\":\"Biography\",\"orientation\":\"h\",\"showlegend\":true,\"text\":[\"$234M\"],\"textposition\":\"auto\",\"x\":[233555708.0],\"xaxis\":\"x\",\"y\":[\"Biography\"],\"yaxis\":\"y\",\"type\":\"bar\"},{\"alignmentgroup\":\"True\",\"hovertemplate\":\"Genre=%{y}<br>Worldwide LT Gross=%{x}<br>Label=%{text}<extra></extra>\",\"legendgroup\":\"War\",\"marker\":{\"color\":\"#636efa\",\"pattern\":{\"shape\":\"\"}},\"name\":\"War\",\"offsetgroup\":\"War\",\"orientation\":\"h\",\"showlegend\":true,\"text\":[\"$232M\"],\"textposition\":\"auto\",\"x\":[231976425.0],\"xaxis\":\"x\",\"y\":[\"War\"],\"yaxis\":\"y\",\"type\":\"bar\"}],                        {\"template\":{\"data\":{\"histogram2dcontour\":[{\"type\":\"histogram2dcontour\",\"colorbar\":{\"outlinewidth\":0,\"ticks\":\"\"},\"colorscale\":[[0.0,\"#0d0887\"],[0.1111111111111111,\"#46039f\"],[0.2222222222222222,\"#7201a8\"],[0.3333333333333333,\"#9c179e\"],[0.4444444444444444,\"#bd3786\"],[0.5555555555555556,\"#d8576b\"],[0.6666666666666666,\"#ed7953\"],[0.7777777777777778,\"#fb9f3a\"],[0.8888888888888888,\"#fdca26\"],[1.0,\"#f0f921\"]]}],\"choropleth\":[{\"type\":\"choropleth\",\"colorbar\":{\"outlinewidth\":0,\"ticks\":\"\"}}],\"histogram2d\":[{\"type\":\"histogram2d\",\"colorbar\":{\"outlinewidth\":0,\"ticks\":\"\"},\"colorscale\":[[0.0,\"#0d0887\"],[0.1111111111111111,\"#46039f\"],[0.2222222222222222,\"#7201a8\"],[0.3333333333333333,\"#9c179e\"],[0.4444444444444444,\"#bd3786\"],[0.5555555555555556,\"#d8576b\"],[0.6666666666666666,\"#ed7953\"],[0.7777777777777778,\"#fb9f3a\"],[0.8888888888888888,\"#fdca26\"],[1.0,\"#f0f921\"]]}],\"heatmap\":[{\"type\":\"heatmap\",\"colorbar\":{\"outlinewidth\":0,\"ticks\":\"\"},\"colorscale\":[[0.0,\"#0d0887\"],[0.1111111111111111,\"#46039f\"],[0.2222222222222222,\"#7201a8\"],[0.3333333333333333,\"#9c179e\"],[0.4444444444444444,\"#bd3786\"],[0.5555555555555556,\"#d8576b\"],[0.6666666666666666,\"#ed7953\"],[0.7777777777777778,\"#fb9f3a\"],[0.8888888888888888,\"#fdca26\"],[1.0,\"#f0f921\"]]}],\"heatmapgl\":[{\"type\":\"heatmapgl\",\"colorbar\":{\"outlinewidth\":0,\"ticks\":\"\"},\"colorscale\":[[0.0,\"#0d0887\"],[0.1111111111111111,\"#46039f\"],[0.2222222222222222,\"#7201a8\"],[0.3333333333333333,\"#9c179e\"],[0.4444444444444444,\"#bd3786\"],[0.5555555555555556,\"#d8576b\"],[0.6666666666666666,\"#ed7953\"],[0.7777777777777778,\"#fb9f3a\"],[0.8888888888888888,\"#fdca26\"],[1.0,\"#f0f921\"]]}],\"contourcarpet\":[{\"type\":\"contourcarpet\",\"colorbar\":{\"outlinewidth\":0,\"ticks\":\"\"}}],\"contour\":[{\"type\":\"contour\",\"colorbar\":{\"outlinewidth\":0,\"ticks\":\"\"},\"colorscale\":[[0.0,\"#0d0887\"],[0.1111111111111111,\"#46039f\"],[0.2222222222222222,\"#7201a8\"],[0.3333333333333333,\"#9c179e\"],[0.4444444444444444,\"#bd3786\"],[0.5555555555555556,\"#d8576b\"],[0.6666666666666666,\"#ed7953\"],[0.7777777777777778,\"#fb9f3a\"],[0.8888888888888888,\"#fdca26\"],[1.0,\"#f0f921\"]]}],\"surface\":[{\"type\":\"surface\",\"colorbar\":{\"outlinewidth\":0,\"ticks\":\"\"},\"colorscale\":[[0.0,\"#0d0887\"],[0.1111111111111111,\"#46039f\"],[0.2222222222222222,\"#7201a8\"],[0.3333333333333333,\"#9c179e\"],[0.4444444444444444,\"#bd3786\"],[0.5555555555555556,\"#d8576b\"],[0.6666666666666666,\"#ed7953\"],[0.7777777777777778,\"#fb9f3a\"],[0.8888888888888888,\"#fdca26\"],[1.0,\"#f0f921\"]]}],\"mesh3d\":[{\"type\":\"mesh3d\",\"colorbar\":{\"outlinewidth\":0,\"ticks\":\"\"}}],\"scatter\":[{\"fillpattern\":{\"fillmode\":\"overlay\",\"size\":10,\"solidity\":0.2},\"type\":\"scatter\"}],\"parcoords\":[{\"type\":\"parcoords\",\"line\":{\"colorbar\":{\"outlinewidth\":0,\"ticks\":\"\"}}}],\"scatterpolargl\":[{\"type\":\"scatterpolargl\",\"marker\":{\"colorbar\":{\"outlinewidth\":0,\"ticks\":\"\"}}}],\"bar\":[{\"error_x\":{\"color\":\"#2a3f5f\"},\"error_y\":{\"color\":\"#2a3f5f\"},\"marker\":{\"line\":{\"color\":\"#E5ECF6\",\"width\":0.5},\"pattern\":{\"fillmode\":\"overlay\",\"size\":10,\"solidity\":0.2}},\"type\":\"bar\"}],\"scattergeo\":[{\"type\":\"scattergeo\",\"marker\":{\"colorbar\":{\"outlinewidth\":0,\"ticks\":\"\"}}}],\"scatterpolar\":[{\"type\":\"scatterpolar\",\"marker\":{\"colorbar\":{\"outlinewidth\":0,\"ticks\":\"\"}}}],\"histogram\":[{\"marker\":{\"pattern\":{\"fillmode\":\"overlay\",\"size\":10,\"solidity\":0.2}},\"type\":\"histogram\"}],\"scattergl\":[{\"type\":\"scattergl\",\"marker\":{\"colorbar\":{\"outlinewidth\":0,\"ticks\":\"\"}}}],\"scatter3d\":[{\"type\":\"scatter3d\",\"line\":{\"colorbar\":{\"outlinewidth\":0,\"ticks\":\"\"}},\"marker\":{\"colorbar\":{\"outlinewidth\":0,\"ticks\":\"\"}}}],\"scattermapbox\":[{\"type\":\"scattermapbox\",\"marker\":{\"colorbar\":{\"outlinewidth\":0,\"ticks\":\"\"}}}],\"scatterternary\":[{\"type\":\"scatterternary\",\"marker\":{\"colorbar\":{\"outlinewidth\":0,\"ticks\":\"\"}}}],\"scattercarpet\":[{\"type\":\"scattercarpet\",\"marker\":{\"colorbar\":{\"outlinewidth\":0,\"ticks\":\"\"}}}],\"carpet\":[{\"aaxis\":{\"endlinecolor\":\"#2a3f5f\",\"gridcolor\":\"white\",\"linecolor\":\"white\",\"minorgridcolor\":\"white\",\"startlinecolor\":\"#2a3f5f\"},\"baxis\":{\"endlinecolor\":\"#2a3f5f\",\"gridcolor\":\"white\",\"linecolor\":\"white\",\"minorgridcolor\":\"white\",\"startlinecolor\":\"#2a3f5f\"},\"type\":\"carpet\"}],\"table\":[{\"cells\":{\"fill\":{\"color\":\"#EBF0F8\"},\"line\":{\"color\":\"white\"}},\"header\":{\"fill\":{\"color\":\"#C8D4E3\"},\"line\":{\"color\":\"white\"}},\"type\":\"table\"}],\"barpolar\":[{\"marker\":{\"line\":{\"color\":\"#E5ECF6\",\"width\":0.5},\"pattern\":{\"fillmode\":\"overlay\",\"size\":10,\"solidity\":0.2}},\"type\":\"barpolar\"}],\"pie\":[{\"automargin\":true,\"type\":\"pie\"}]},\"layout\":{\"autotypenumbers\":\"strict\",\"colorway\":[\"#636efa\",\"#EF553B\",\"#00cc96\",\"#ab63fa\",\"#FFA15A\",\"#19d3f3\",\"#FF6692\",\"#B6E880\",\"#FF97FF\",\"#FECB52\"],\"font\":{\"color\":\"#2a3f5f\"},\"hovermode\":\"closest\",\"hoverlabel\":{\"align\":\"left\"},\"paper_bgcolor\":\"white\",\"plot_bgcolor\":\"#E5ECF6\",\"polar\":{\"bgcolor\":\"#E5ECF6\",\"angularaxis\":{\"gridcolor\":\"white\",\"linecolor\":\"white\",\"ticks\":\"\"},\"radialaxis\":{\"gridcolor\":\"white\",\"linecolor\":\"white\",\"ticks\":\"\"}},\"ternary\":{\"bgcolor\":\"#E5ECF6\",\"aaxis\":{\"gridcolor\":\"white\",\"linecolor\":\"white\",\"ticks\":\"\"},\"baxis\":{\"gridcolor\":\"white\",\"linecolor\":\"white\",\"ticks\":\"\"},\"caxis\":{\"gridcolor\":\"white\",\"linecolor\":\"white\",\"ticks\":\"\"}},\"coloraxis\":{\"colorbar\":{\"outlinewidth\":0,\"ticks\":\"\"}},\"colorscale\":{\"sequential\":[[0.0,\"#0d0887\"],[0.1111111111111111,\"#46039f\"],[0.2222222222222222,\"#7201a8\"],[0.3333333333333333,\"#9c179e\"],[0.4444444444444444,\"#bd3786\"],[0.5555555555555556,\"#d8576b\"],[0.6666666666666666,\"#ed7953\"],[0.7777777777777778,\"#fb9f3a\"],[0.8888888888888888,\"#fdca26\"],[1.0,\"#f0f921\"]],\"sequentialminus\":[[0.0,\"#0d0887\"],[0.1111111111111111,\"#46039f\"],[0.2222222222222222,\"#7201a8\"],[0.3333333333333333,\"#9c179e\"],[0.4444444444444444,\"#bd3786\"],[0.5555555555555556,\"#d8576b\"],[0.6666666666666666,\"#ed7953\"],[0.7777777777777778,\"#fb9f3a\"],[0.8888888888888888,\"#fdca26\"],[1.0,\"#f0f921\"]],\"diverging\":[[0,\"#8e0152\"],[0.1,\"#c51b7d\"],[0.2,\"#de77ae\"],[0.3,\"#f1b6da\"],[0.4,\"#fde0ef\"],[0.5,\"#f7f7f7\"],[0.6,\"#e6f5d0\"],[0.7,\"#b8e186\"],[0.8,\"#7fbc41\"],[0.9,\"#4d9221\"],[1,\"#276419\"]]},\"xaxis\":{\"gridcolor\":\"white\",\"linecolor\":\"white\",\"ticks\":\"\",\"title\":{\"standoff\":15},\"zerolinecolor\":\"white\",\"automargin\":true,\"zerolinewidth\":2},\"yaxis\":{\"gridcolor\":\"white\",\"linecolor\":\"white\",\"ticks\":\"\",\"title\":{\"standoff\":15},\"zerolinecolor\":\"white\",\"automargin\":true,\"zerolinewidth\":2},\"scene\":{\"xaxis\":{\"backgroundcolor\":\"#E5ECF6\",\"gridcolor\":\"white\",\"linecolor\":\"white\",\"showbackground\":true,\"ticks\":\"\",\"zerolinecolor\":\"white\",\"gridwidth\":2},\"yaxis\":{\"backgroundcolor\":\"#E5ECF6\",\"gridcolor\":\"white\",\"linecolor\":\"white\",\"showbackground\":true,\"ticks\":\"\",\"zerolinecolor\":\"white\",\"gridwidth\":2},\"zaxis\":{\"backgroundcolor\":\"#E5ECF6\",\"gridcolor\":\"white\",\"linecolor\":\"white\",\"showbackground\":true,\"ticks\":\"\",\"zerolinecolor\":\"white\",\"gridwidth\":2}},\"shapedefaults\":{\"line\":{\"color\":\"#2a3f5f\"}},\"annotationdefaults\":{\"arrowcolor\":\"#2a3f5f\",\"arrowhead\":0,\"arrowwidth\":1},\"geo\":{\"bgcolor\":\"white\",\"landcolor\":\"#E5ECF6\",\"subunitcolor\":\"white\",\"showland\":true,\"showlakes\":true,\"lakecolor\":\"white\"},\"title\":{\"x\":0.05},\"mapbox\":{\"style\":\"light\"}}},\"xaxis\":{\"anchor\":\"y\",\"domain\":[0.0,1.0],\"title\":{\"text\":\"Worldwide LT Gross\"}},\"yaxis\":{\"anchor\":\"x\",\"domain\":[0.0,1.0],\"title\":{\"text\":\"Genre\"},\"categoryorder\":\"array\",\"categoryarray\":[\"War\",\"Biography\",\"Sport\",\"Documentary\",\"Romance\",\"Crime\",\"Horror\",\"Music\",\"Western\",\"Mystery\",\"Drama\",\"Comedy\",\"History\",\"Thriller\",\"Family\",\"Action\",\"Animation\",\"Adventure\",\"Sci-Fi\",\"Musical\",\"Fantasy\"]},\"legend\":{\"title\":{\"text\":\"Genre\"},\"tracegroupgap\":0},\"title\":{\"text\":\"Movie Genre vs. Worldwide LT Gross\"},\"barmode\":\"relative\",\"height\":700,\"width\":700},                        {\"responsive\": true}                    ).then(function(){\n",
       "                            \n",
       "var gd = document.getElementById('7be449f7-1007-4bcc-a529-924cf425d9bc');\n",
       "var x = new MutationObserver(function (mutations, observer) {{\n",
       "        var display = window.getComputedStyle(gd).display;\n",
       "        if (!display || display === 'none') {{\n",
       "            console.log([gd, 'removed!']);\n",
       "            Plotly.purge(gd);\n",
       "            observer.disconnect();\n",
       "        }}\n",
       "}});\n",
       "\n",
       "// Listen for the removal of the full notebook cells\n",
       "var notebookContainer = gd.closest('#notebook-container');\n",
       "if (notebookContainer) {{\n",
       "    x.observe(notebookContainer, {childList: true});\n",
       "}}\n",
       "\n",
       "// Listen for the clearing of the current output cell\n",
       "var outputEl = gd.closest('.output');\n",
       "if (outputEl) {{\n",
       "    x.observe(outputEl, {childList: true});\n",
       "}}\n",
       "\n",
       "                        })                };                });            </script>        </div>"
      ]
     },
     "metadata": {},
     "output_type": "display_data"
    }
   ],
   "source": [
    "# plotting bar graph with reference to genre\n",
    "fig = px.bar(gen_df,width=700,height=700,x='Worldwide LT Gross',y=gen_df.index,title='Movie Genre vs. Worldwide LT Gross',text='Label',color=gen_df.index)\n",
    "fig.show()"
   ]
  }
 ],
 "metadata": {
  "kernelspec": {
   "display_name": "Python 3 (ipykernel)",
   "language": "python",
   "name": "python3"
  },
  "language_info": {
   "codemirror_mode": {
    "name": "ipython",
    "version": 3
   },
   "file_extension": ".py",
   "mimetype": "text/x-python",
   "name": "python",
   "nbconvert_exporter": "python",
   "pygments_lexer": "ipython3",
   "version": "3.9.7"
  }
 },
 "nbformat": 4,
 "nbformat_minor": 5
}
